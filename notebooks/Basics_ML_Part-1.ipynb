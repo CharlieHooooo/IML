{
 "cells": [
  {
   "cell_type": "markdown",
   "metadata": {},
   "source": [
    "# Basics of Machine Learning `part 1`"
   ]
  },
  {
   "cell_type": "code",
   "execution_count": null,
   "metadata": {},
   "outputs": [],
   "source": [
    "%pylab inline"
   ]
  },
  {
   "cell_type": "markdown",
   "metadata": {},
   "source": [
    "## Table of Contents\n",
    "<!-- MarkdownTOC autolink=true autoanchor=true bracket=round -->\n",
    "\n",
    "- [Machine Learning](#machinelearning)\n",
    "- [Machine learning in python](#ml_python)\n",
    "- [The Iris Dataset](#toyexample)\n",
    "- [Training a Classifier on the Iris Dataset](#toyex_training)\n",
    "- [Testing a Classifier on the Iris Dataset](#toyex_testing)"
   ]
  },
  {
   "cell_type": "markdown",
   "metadata": {},
   "source": [
    "<a name=\"machinelearning\"></a>\n",
    "# Machine Learning\n",
    "\n",
    "Machine learning has become recently a hot topic present in scientific literature as well as in the general public literature. Roughly saying, machine learning is *way* for computer to learn from data, and consequently, has been  at the heart of artificial intelligence algorithms. \n",
    "\n",
    "ML is nowadays already in many of the products we use Today from recommendation systems able to provide personnalized recommendations for filems (Netflix), music (Apple Music) or more general products (Amazon). Machine learning is also widely used to filters our spam, to recognise voice in personnal assistants, etc. \n",
    "\n",
    "> A formal definition of **machine learning** (ML) can be: a set of methods that can **automatically detect patterns** in data, and then use the uncovered patterns to **predict future data** (*from Machine Learning: A Probabilistic Perspective (Murphy 2012)*)\n",
    "\n",
    "<a name=\"ml_types\"></a>\n",
    "## Types of learning\n",
    "\n",
    "What are the types of \"learning\"? In ML literature, there are several types of learning, the three main types are: supervised learning, unsupervised learning and reinforcement learning. \n",
    "\n",
    "In supervised learning, you have access to a dataset where each datapoint, considered as an *input*, has an associated known output, that can be discrete (like a *label*) or continuous. \n",
    "\n",
    "The goal of a supervised learning algorithm is to learn the relationship between the inputs and their associated outputs. In case the outputs are discrete (*labels*) we call the task **classification**, in case the outputs are continous, the task is called **regression**. \n",
    "\n",
    "<img src=\"assets/supervised_learning.png\" width=400px></img>\n",
    "\n",
    "\n",
    "In unsupervised learning, you have acess to a dataset where there are only *inputs* (datapoints without associated labels or some values). The goal of an unsupervised learning algorithm is then to infer from these data the underlying structure. This task is usually harder than supervised learning. \n",
    "\n",
    "<img src=\"assets/unsupervised_learning.png\" width=400px></img>\n",
    "\n",
    "Reinforcement learning is a different paradigm: the learning occurs through interaction with the environment. In reinforcement learning, an agent takes actions in an environment such as to maximize some cumulative rewards. Each action taken produces a reward that the agent takes into account in order to assess the \"quality\" of the action. \n",
    "\n",
    "\n",
    "<a name=\"ml_phases\"></a>\n",
    "## Phases\n",
    "\n",
    "In ML, we usually consider two phases: **learning** then **testing**. \n",
    "\n",
    "**Training** an algorithm in machine learning means detecting patterns in a dataset. \n",
    "\n",
    "**Testing** an algorithm means predicting future data, that is generalizing the uncovered trained patterns to new datasets\n",
    "\n"
   ]
  },
  {
   "cell_type": "markdown",
   "metadata": {},
   "source": [
    "<a name=\"ml_python\"></a>\n",
    "# Machine Learning in Python\n",
    "\n",
    "At this stage of the course, you should have installed Python 3, Jupyter Notebook and all the useful lirbaries used in this course (like sklearn). If not, please refer to the README.md "
   ]
  },
  {
   "cell_type": "markdown",
   "metadata": {},
   "source": [
    "## Quick introduction to jupyter notebook\n",
    "\n",
    "### Cell\n",
    "Cell in jupyter notebook is where we write code or text that can be executed (or interpreted). \n"
   ]
  },
  {
   "cell_type": "code",
   "execution_count": 4,
   "metadata": {},
   "outputs": [
    {
     "data": {
      "text/plain": [
       "12"
      ]
     },
     "execution_count": 4,
     "metadata": {},
     "output_type": "execute_result"
    }
   ],
   "source": [
    "9 + 2 + 1"
   ]
  },
  {
   "cell_type": "markdown",
   "metadata": {},
   "source": [
    "### Import libraries \n",
    "\n",
    "At this stage, you cannot do much except calling the basic python functions such as '+' or '-' (and others). To be able to use additional functions we use libraries. Libraries are collections of functions that can be called in python programs. In order to use the functions included in a library, you first have to `import` that library. For instance, we will import the library allowing for manipulating arrays (vectors, matrices, etc.). This library is called `numpy`:"
   ]
  },
  {
   "cell_type": "code",
   "execution_count": 8,
   "metadata": {},
   "outputs": [],
   "source": [
    "import numpy"
   ]
  },
  {
   "cell_type": "markdown",
   "metadata": {},
   "source": [
    "Now we can use functions within the numpy library, like creating a 2 x 3 matrix with zeros inside:"
   ]
  },
  {
   "cell_type": "code",
   "execution_count": 10,
   "metadata": {},
   "outputs": [],
   "source": [
    "M = numpy.zeros((2, 3))"
   ]
  },
  {
   "cell_type": "markdown",
   "metadata": {},
   "source": [
    "To visualise what `M` looks like, you can use the `print` function:"
   ]
  },
  {
   "cell_type": "code",
   "execution_count": 11,
   "metadata": {},
   "outputs": [
    {
     "name": "stdout",
     "output_type": "stream",
     "text": [
      "[[0. 0. 0.]\n",
      " [0. 0. 0.]]\n"
     ]
    }
   ],
   "source": [
    "print(M)"
   ]
  },
  {
   "cell_type": "markdown",
   "metadata": {},
   "source": [
    "Note that the libray can be imported with a name (usually a shorter name), called a *namespace*. Namespaces make a code more readable and allow to define functions with a same name but within different namespaces. Numpy is usually imported as `np`:"
   ]
  },
  {
   "cell_type": "code",
   "execution_count": 12,
   "metadata": {},
   "outputs": [],
   "source": [
    "import numpy as np"
   ]
  },
  {
   "cell_type": "code",
   "execution_count": 13,
   "metadata": {},
   "outputs": [
    {
     "name": "stdout",
     "output_type": "stream",
     "text": [
      "[[0. 0. 0. 0.]\n",
      " [0. 0. 0. 0.]\n",
      " [0. 0. 0. 0.]\n",
      " [0. 0. 0. 0.]\n",
      " [0. 0. 0. 0.]]\n"
     ]
    }
   ],
   "source": [
    "M = np.zeros((5, 4))\n",
    "print(M)"
   ]
  },
  {
   "cell_type": "markdown",
   "metadata": {},
   "source": [
    "Machine learning libraries that we will use:\n",
    "- scikit learn https://scikit-learn.org/stable/index.html\n",
    "- keras https://keras.io/\n",
    "\n",
    "More details below."
   ]
  },
  {
   "cell_type": "markdown",
   "metadata": {},
   "source": [
    "### Plot data\n",
    "\n",
    "Plotting data can be done using the `matplotlib` library (there are other ways to do, but this one is the most common and convenient as it uses matlab-like syntax). "
   ]
  },
  {
   "cell_type": "code",
   "execution_count": 14,
   "metadata": {},
   "outputs": [
    {
     "name": "stdout",
     "output_type": "stream",
     "text": [
      "Populating the interactive namespace from numpy and matplotlib\n"
     ]
    }
   ],
   "source": [
    "%pylab inline"
   ]
  },
  {
   "cell_type": "markdown",
   "metadata": {},
   "source": [
    "Let's now try out this by plotting a simple vector of random values."
   ]
  },
  {
   "cell_type": "code",
   "execution_count": 15,
   "metadata": {},
   "outputs": [],
   "source": [
    "M = np.random.randn(10,1)"
   ]
  },
  {
   "cell_type": "code",
   "execution_count": 16,
   "metadata": {},
   "outputs": [
    {
     "data": {
      "image/png": "[encoded data removed]",
      "text/plain": [
       "<Figure size 432x288 with 1 Axes>"
      ]
     },
     "metadata": {
      "needs_background": "light"
     },
     "output_type": "display_data"
    }
   ],
   "source": [
    "plt.plot(M)\n",
    "plt.show()"
   ]
  },
  {
   "cell_type": "code",
   "execution_count": 19,
   "metadata": {},
   "outputs": [
    {
     "data": {
      "image/png": "[encoded data removed]",
      "text/plain": [
       "<Figure size 432x288 with 1 Axes>"
      ]
     },
     "metadata": {
      "needs_background": "light"
     },
     "output_type": "display_data"
    }
   ],
   "source": [
    "plt.plot(M, '--o')\n",
    "plt.show()"
   ]
  },
  {
   "cell_type": "markdown",
   "metadata": {},
   "source": [
    "Above we plotted the points sequentially, sometimes it is useful to display their **distribution**"
   ]
  },
  {
   "cell_type": "code",
   "execution_count": 20,
   "metadata": {},
   "outputs": [
    {
     "data": {
      "image/png": "[encoded data removed]",
      "text/plain": [
       "<Figure size 432x288 with 1 Axes>"
      ]
     },
     "metadata": {
      "needs_background": "light"
     },
     "output_type": "display_data"
    }
   ],
   "source": [
    "plt.hist(M)\n",
    "plt.show()"
   ]
  },
  {
   "cell_type": "markdown",
   "metadata": {},
   "source": [
    "<img src=\"assets/exerice-icon.png\" style=\"width:80px; float:left;\"></img><div style=\"clear:left;\"></div>\n",
    "**EXERCICE:**: Try with a **higher number** of radomnly generated points.\n",
    "\n",
    "What is this shape? "
   ]
  },
  {
   "cell_type": "code",
   "execution_count": 23,
   "metadata": {},
   "outputs": [
    {
     "data": {
      "text/plain": [
       "(array([  1.,   3.,   2.,   5.,   5.,   7.,  14.,  15.,  41.,  63.,  94.,\n",
       "        113., 178., 228., 285., 325., 435., 467., 610., 596., 670., 686.,\n",
       "        668., 678., 622., 552., 527., 465., 383., 325., 242., 188., 148.,\n",
       "        129.,  85.,  45.,  39.,  19.,  16.,   4.,  10.,   6.,   3.,   0.,\n",
       "          1.,   1.,   0.,   0.,   0.,   1.]),\n",
       " array([-3.85217766, -3.67999552, -3.50781339, -3.33563126, -3.16344912,\n",
       "        -2.99126699, -2.81908486, -2.64690272, -2.47472059, -2.30253846,\n",
       "        -2.13035633, -1.95817419, -1.78599206, -1.61380993, -1.44162779,\n",
       "        -1.26944566, -1.09726353, -0.92508139, -0.75289926, -0.58071713,\n",
       "        -0.40853499, -0.23635286, -0.06417073,  0.1080114 ,  0.28019354,\n",
       "         0.45237567,  0.6245578 ,  0.79673994,  0.96892207,  1.1411042 ,\n",
       "         1.31328634,  1.48546847,  1.6576506 ,  1.82983274,  2.00201487,\n",
       "         2.174197  ,  2.34637913,  2.51856127,  2.6907434 ,  2.86292553,\n",
       "         3.03510767,  3.2072898 ,  3.37947193,  3.55165407,  3.7238362 ,\n",
       "         3.89601833,  4.06820046,  4.2403826 ,  4.41256473,  4.58474686,\n",
       "         4.756929  ]),\n",
       " <a list of 50 Patch objects>)"
      ]
     },
     "execution_count": 23,
     "metadata": {},
     "output_type": "execute_result"
    },
    {
     "data": {
      "image/png": "[encoded data removed]",
      "text/plain": [
       "<Figure size 432x288 with 1 Axes>"
      ]
     },
     "metadata": {
      "needs_background": "light"
     },
     "output_type": "display_data"
    }
   ],
   "source": [
    "M = np.random.randn(10000,1)\n",
    "plt.hist(M, bins=50)"
   ]
  },
  {
   "cell_type": "markdown",
   "metadata": {},
   "source": [
    "## Sklearn: A machine learning library in python\n",
    "\n",
    "Sklearn (or scikit-learn) is one of the most used machine learning library in python. The library includes the most common classifiers: Support Vector Machine (SVM), k-Nearest Neighbour (kNN), Gaussian Mixture Models (GMM); the reduction dimension techniques, such as Principal Component Analysis (PCA), Independent Component Analysis (ICA); techniques to split datasets, to preprocess data and cross-validate models. "
   ]
  },
  {
   "cell_type": "code",
   "execution_count": 24,
   "metadata": {},
   "outputs": [],
   "source": [
    "# Test if sklearn is installed:\n",
    "import sklearn"
   ]
  },
  {
   "cell_type": "markdown",
   "metadata": {},
   "source": [
    "**Sklearn API**: http://scikit-learn.org/stable/modules/classes.html"
   ]
  },
  {
   "cell_type": "markdown",
   "metadata": {},
   "source": [
    "Deep learning:\n",
    "- Tensorflow (google)\n",
    "- Keras (google)\n",
    "- PyTorch (facebook)\n",
    "- ...\n",
    "- ... "
   ]
  },
  {
   "cell_type": "markdown",
   "metadata": {},
   "source": [
    "<a name=\"toyexample\"></a>\n",
    "# The Iris dataset\n",
    "\n",
    "An exemple of a toy dataset (simpler than realworld dataset)."
   ]
  },
  {
   "cell_type": "markdown",
   "metadata": {},
   "source": [
    "<a name=\"toyex_description\"></a>\n",
    "## Dataset Description\n",
    "\n",
    "This dataset consists of 3 different types of irises’ (**Setosa**, **Versicolour**, and **Virginica**) given by their:\n",
    "* Sepal Length\n",
    "* Sepal Width\n",
    "* Petal Length \n",
    "* Petal Width.\n",
    "\n",
    "![pic1](https://apps.rhs.org.uk/plantselectorimages/detail/RHS_PUB0001482_1050.JPG \"pic1\") Setosa\n",
    "\n",
    "![pic1](https://upload.wikimedia.org/wikipedia/commons/4/41/Iris_versicolor_3.jpg \"pic1\") Versicolour\n",
    "\n",
    "![pic1](https://upload.wikimedia.org/wikipedia/commons/9/9f/Iris_virginica.jpg \"pic1\") Virginica\n",
    "\n",
    "The classes are encoded as integers: \n",
    "* Setosa = **0**\n",
    "* Versicolour = **1**\n",
    "* Virginica = **2**\n",
    "\n",
    "Rows are the samples and the columns the feature dimensions (Sepal Length, Sepal Width, Petal Length and Petal Width).\n",
    "```\n",
    "sample 1: [ 5.1,  3.5,  1.4,  0.2] \n",
    "sample 2: [ 4.9,  3. ,  1.4,  0.2] \n",
    "sample 3: [ 4.7,  3.2,  1.3,  0.2] \n",
    "...\n",
    "```"
   ]
  },
  {
   "cell_type": "markdown",
   "metadata": {},
   "source": [
    "<a name=\"toyex_visualising\"></a>\n",
    "## Exploring the dataset\n",
    "\n",
    "### Loading the data\n",
    "\n",
    "The iris dataset is included in the `sklearn` library as a benchmark for the algorithms implemented. The iris dataset is part of the `datasets` python classes:"
   ]
  },
  {
   "cell_type": "code",
   "execution_count": 25,
   "metadata": {},
   "outputs": [],
   "source": [
    "from sklearn import datasets\n",
    "iris = datasets.load_iris()"
   ]
  },
  {
   "cell_type": "code",
   "execution_count": 26,
   "metadata": {},
   "outputs": [
    {
     "data": {
      "text/plain": [
       "{'data': array([[5.1, 3.5, 1.4, 0.2],\n",
       "        [4.9, 3. , 1.4, 0.2],\n",
       "        [4.7, 3.2, 1.3, 0.2],\n",
       "        [4.6, 3.1, 1.5, 0.2],\n",
       "        [5. , 3.6, 1.4, 0.2],\n",
       "        [5.4, 3.9, 1.7, 0.4],\n",
       "        [4.6, 3.4, 1.4, 0.3],\n",
       "        [5. , 3.4, 1.5, 0.2],\n",
       "        [4.4, 2.9, 1.4, 0.2],\n",
       "        [4.9, 3.1, 1.5, 0.1],\n",
       "        [5.4, 3.7, 1.5, 0.2],\n",
       "        [4.8, 3.4, 1.6, 0.2],\n",
       "        [4.8, 3. , 1.4, 0.1],\n",
       "        [4.3, 3. , 1.1, 0.1],\n",
       "        [5.8, 4. , 1.2, 0.2],\n",
       "        [5.7, 4.4, 1.5, 0.4],\n",
       "        [5.4, 3.9, 1.3, 0.4],\n",
       "        [5.1, 3.5, 1.4, 0.3],\n",
       "        [5.7, 3.8, 1.7, 0.3],\n",
       "        [5.1, 3.8, 1.5, 0.3],\n",
       "        [5.4, 3.4, 1.7, 0.2],\n",
       "        [5.1, 3.7, 1.5, 0.4],\n",
       "        [4.6, 3.6, 1. , 0.2],\n",
       "        [5.1, 3.3, 1.7, 0.5],\n",
       "        [4.8, 3.4, 1.9, 0.2],\n",
       "        [5. , 3. , 1.6, 0.2],\n",
       "        [5. , 3.4, 1.6, 0.4],\n",
       "        [5.2, 3.5, 1.5, 0.2],\n",
       "        [5.2, 3.4, 1.4, 0.2],\n",
       "        [4.7, 3.2, 1.6, 0.2],\n",
       "        [4.8, 3.1, 1.6, 0.2],\n",
       "        [5.4, 3.4, 1.5, 0.4],\n",
       "        [5.2, 4.1, 1.5, 0.1],\n",
       "        [5.5, 4.2, 1.4, 0.2],\n",
       "        [4.9, 3.1, 1.5, 0.2],\n",
       "        [5. , 3.2, 1.2, 0.2],\n",
       "        [5.5, 3.5, 1.3, 0.2],\n",
       "        [4.9, 3.6, 1.4, 0.1],\n",
       "        [4.4, 3. , 1.3, 0.2],\n",
       "        [5.1, 3.4, 1.5, 0.2],\n",
       "        [5. , 3.5, 1.3, 0.3],\n",
       "        [4.5, 2.3, 1.3, 0.3],\n",
       "        [4.4, 3.2, 1.3, 0.2],\n",
       "        [5. , 3.5, 1.6, 0.6],\n",
       "        [5.1, 3.8, 1.9, 0.4],\n",
       "        [4.8, 3. , 1.4, 0.3],\n",
       "        [5.1, 3.8, 1.6, 0.2],\n",
       "        [4.6, 3.2, 1.4, 0.2],\n",
       "        [5.3, 3.7, 1.5, 0.2],\n",
       "        [5. , 3.3, 1.4, 0.2],\n",
       "        [7. , 3.2, 4.7, 1.4],\n",
       "        [6.4, 3.2, 4.5, 1.5],\n",
       "        [6.9, 3.1, 4.9, 1.5],\n",
       "        [5.5, 2.3, 4. , 1.3],\n",
       "        [6.5, 2.8, 4.6, 1.5],\n",
       "        [5.7, 2.8, 4.5, 1.3],\n",
       "        [6.3, 3.3, 4.7, 1.6],\n",
       "        [4.9, 2.4, 3.3, 1. ],\n",
       "        [6.6, 2.9, 4.6, 1.3],\n",
       "        [5.2, 2.7, 3.9, 1.4],\n",
       "        [5. , 2. , 3.5, 1. ],\n",
       "        [5.9, 3. , 4.2, 1.5],\n",
       "        [6. , 2.2, 4. , 1. ],\n",
       "        [6.1, 2.9, 4.7, 1.4],\n",
       "        [5.6, 2.9, 3.6, 1.3],\n",
       "        [6.7, 3.1, 4.4, 1.4],\n",
       "        [5.6, 3. , 4.5, 1.5],\n",
       "        [5.8, 2.7, 4.1, 1. ],\n",
       "        [6.2, 2.2, 4.5, 1.5],\n",
       "        [5.6, 2.5, 3.9, 1.1],\n",
       "        [5.9, 3.2, 4.8, 1.8],\n",
       "        [6.1, 2.8, 4. , 1.3],\n",
       "        [6.3, 2.5, 4.9, 1.5],\n",
       "        [6.1, 2.8, 4.7, 1.2],\n",
       "        [6.4, 2.9, 4.3, 1.3],\n",
       "        [6.6, 3. , 4.4, 1.4],\n",
       "        [6.8, 2.8, 4.8, 1.4],\n",
       "        [6.7, 3. , 5. , 1.7],\n",
       "        [6. , 2.9, 4.5, 1.5],\n",
       "        [5.7, 2.6, 3.5, 1. ],\n",
       "        [5.5, 2.4, 3.8, 1.1],\n",
       "        [5.5, 2.4, 3.7, 1. ],\n",
       "        [5.8, 2.7, 3.9, 1.2],\n",
       "        [6. , 2.7, 5.1, 1.6],\n",
       "        [5.4, 3. , 4.5, 1.5],\n",
       "        [6. , 3.4, 4.5, 1.6],\n",
       "        [6.7, 3.1, 4.7, 1.5],\n",
       "        [6.3, 2.3, 4.4, 1.3],\n",
       "        [5.6, 3. , 4.1, 1.3],\n",
       "        [5.5, 2.5, 4. , 1.3],\n",
       "        [5.5, 2.6, 4.4, 1.2],\n",
       "        [6.1, 3. , 4.6, 1.4],\n",
       "        [5.8, 2.6, 4. , 1.2],\n",
       "        [5. , 2.3, 3.3, 1. ],\n",
       "        [5.6, 2.7, 4.2, 1.3],\n",
       "        [5.7, 3. , 4.2, 1.2],\n",
       "        [5.7, 2.9, 4.2, 1.3],\n",
       "        [6.2, 2.9, 4.3, 1.3],\n",
       "        [5.1, 2.5, 3. , 1.1],\n",
       "        [5.7, 2.8, 4.1, 1.3],\n",
       "        [6.3, 3.3, 6. , 2.5],\n",
       "        [5.8, 2.7, 5.1, 1.9],\n",
       "        [7.1, 3. , 5.9, 2.1],\n",
       "        [6.3, 2.9, 5.6, 1.8],\n",
       "        [6.5, 3. , 5.8, 2.2],\n",
       "        [7.6, 3. , 6.6, 2.1],\n",
       "        [4.9, 2.5, 4.5, 1.7],\n",
       "        [7.3, 2.9, 6.3, 1.8],\n",
       "        [6.7, 2.5, 5.8, 1.8],\n",
       "        [7.2, 3.6, 6.1, 2.5],\n",
       "        [6.5, 3.2, 5.1, 2. ],\n",
       "        [6.4, 2.7, 5.3, 1.9],\n",
       "        [6.8, 3. , 5.5, 2.1],\n",
       "        [5.7, 2.5, 5. , 2. ],\n",
       "        [5.8, 2.8, 5.1, 2.4],\n",
       "        [6.4, 3.2, 5.3, 2.3],\n",
       "        [6.5, 3. , 5.5, 1.8],\n",
       "        [7.7, 3.8, 6.7, 2.2],\n",
       "        [7.7, 2.6, 6.9, 2.3],\n",
       "        [6. , 2.2, 5. , 1.5],\n",
       "        [6.9, 3.2, 5.7, 2.3],\n",
       "        [5.6, 2.8, 4.9, 2. ],\n",
       "        [7.7, 2.8, 6.7, 2. ],\n",
       "        [6.3, 2.7, 4.9, 1.8],\n",
       "        [6.7, 3.3, 5.7, 2.1],\n",
       "        [7.2, 3.2, 6. , 1.8],\n",
       "        [6.2, 2.8, 4.8, 1.8],\n",
       "        [6.1, 3. , 4.9, 1.8],\n",
       "        [6.4, 2.8, 5.6, 2.1],\n",
       "        [7.2, 3. , 5.8, 1.6],\n",
       "        [7.4, 2.8, 6.1, 1.9],\n",
       "        [7.9, 3.8, 6.4, 2. ],\n",
       "        [6.4, 2.8, 5.6, 2.2],\n",
       "        [6.3, 2.8, 5.1, 1.5],\n",
       "        [6.1, 2.6, 5.6, 1.4],\n",
       "        [7.7, 3. , 6.1, 2.3],\n",
       "        [6.3, 3.4, 5.6, 2.4],\n",
       "        [6.4, 3.1, 5.5, 1.8],\n",
       "        [6. , 3. , 4.8, 1.8],\n",
       "        [6.9, 3.1, 5.4, 2.1],\n",
       "        [6.7, 3.1, 5.6, 2.4],\n",
       "        [6.9, 3.1, 5.1, 2.3],\n",
       "        [5.8, 2.7, 5.1, 1.9],\n",
       "        [6.8, 3.2, 5.9, 2.3],\n",
       "        [6.7, 3.3, 5.7, 2.5],\n",
       "        [6.7, 3. , 5.2, 2.3],\n",
       "        [6.3, 2.5, 5. , 1.9],\n",
       "        [6.5, 3. , 5.2, 2. ],\n",
       "        [6.2, 3.4, 5.4, 2.3],\n",
       "        [5.9, 3. , 5.1, 1.8]]),\n",
       " 'target': array([0, 0, 0, 0, 0, 0, 0, 0, 0, 0, 0, 0, 0, 0, 0, 0, 0, 0, 0, 0, 0, 0,\n",
       "        0, 0, 0, 0, 0, 0, 0, 0, 0, 0, 0, 0, 0, 0, 0, 0, 0, 0, 0, 0, 0, 0,\n",
       "        0, 0, 0, 0, 0, 0, 1, 1, 1, 1, 1, 1, 1, 1, 1, 1, 1, 1, 1, 1, 1, 1,\n",
       "        1, 1, 1, 1, 1, 1, 1, 1, 1, 1, 1, 1, 1, 1, 1, 1, 1, 1, 1, 1, 1, 1,\n",
       "        1, 1, 1, 1, 1, 1, 1, 1, 1, 1, 1, 1, 2, 2, 2, 2, 2, 2, 2, 2, 2, 2,\n",
       "        2, 2, 2, 2, 2, 2, 2, 2, 2, 2, 2, 2, 2, 2, 2, 2, 2, 2, 2, 2, 2, 2,\n",
       "        2, 2, 2, 2, 2, 2, 2, 2, 2, 2, 2, 2, 2, 2, 2, 2, 2, 2]),\n",
       " 'target_names': array(['setosa', 'versicolor', 'virginica'], dtype='<U10'),\n",
       " 'DESCR': '.. _iris_dataset:\\n\\nIris plants dataset\\n--------------------\\n\\n**Data Set Characteristics:**\\n\\n    :Number of Instances: 150 (50 in each of three classes)\\n    :Number of Attributes: 4 numeric, predictive attributes and the class\\n    :Attribute Information:\\n        - sepal length in cm\\n        - sepal width in cm\\n        - petal length in cm\\n        - petal width in cm\\n        - class:\\n                - Iris-Setosa\\n                - Iris-Versicolour\\n                - Iris-Virginica\\n                \\n    :Summary Statistics:\\n\\n    ============== ==== ==== ======= ===== ====================\\n                    Min  Max   Mean    SD   Class Correlation\\n    ============== ==== ==== ======= ===== ====================\\n    sepal length:   4.3  7.9   5.84   0.83    0.7826\\n    sepal width:    2.0  4.4   3.05   0.43   -0.4194\\n    petal length:   1.0  6.9   3.76   1.76    0.9490  (high!)\\n    petal width:    0.1  2.5   1.20   0.76    0.9565  (high!)\\n    ============== ==== ==== ======= ===== ====================\\n\\n    :Missing Attribute Values: None\\n    :Class Distribution: 33.3% for each of 3 classes.\\n    :Creator: R.A. Fisher\\n    :Donor: Michael Marshall (MARSHALL%PLU@io.arc.nasa.gov)\\n    :Date: July, 1988\\n\\nThe famous Iris database, first used by Sir R.A. Fisher. The dataset is taken\\nfrom Fisher\\'s paper. Note that it\\'s the same as in R, but not as in the UCI\\nMachine Learning Repository, which has two wrong data points.\\n\\nThis is perhaps the best known database to be found in the\\npattern recognition literature.  Fisher\\'s paper is a classic in the field and\\nis referenced frequently to this day.  (See Duda & Hart, for example.)  The\\ndata set contains 3 classes of 50 instances each, where each class refers to a\\ntype of iris plant.  One class is linearly separable from the other 2; the\\nlatter are NOT linearly separable from each other.\\n\\n.. topic:: References\\n\\n   - Fisher, R.A. \"The use of multiple measurements in taxonomic problems\"\\n     Annual Eugenics, 7, Part II, 179-188 (1936); also in \"Contributions to\\n     Mathematical Statistics\" (John Wiley, NY, 1950).\\n   - Duda, R.O., & Hart, P.E. (1973) Pattern Classification and Scene Analysis.\\n     (Q327.D83) John Wiley & Sons.  ISBN 0-471-22361-1.  See page 218.\\n   - Dasarathy, B.V. (1980) \"Nosing Around the Neighborhood: A New System\\n     Structure and Classification Rule for Recognition in Partially Exposed\\n     Environments\".  IEEE Transactions on Pattern Analysis and Machine\\n     Intelligence, Vol. PAMI-2, No. 1, 67-71.\\n   - Gates, G.W. (1972) \"The Reduced Nearest Neighbor Rule\".  IEEE Transactions\\n     on Information Theory, May 1972, 431-433.\\n   - See also: 1988 MLC Proceedings, 54-64.  Cheeseman et al\"s AUTOCLASS II\\n     conceptual clustering system finds 3 classes in the data.\\n   - Many, many more ...',\n",
       " 'feature_names': ['sepal length (cm)',\n",
       "  'sepal width (cm)',\n",
       "  'petal length (cm)',\n",
       "  'petal width (cm)'],\n",
       " 'filename': '/Library/Frameworks/Python.framework/Versions/3.7/lib/python3.7/site-packages/sklearn/datasets/data/iris.csv'}"
      ]
     },
     "execution_count": 26,
     "metadata": {},
     "output_type": "execute_result"
    }
   ],
   "source": [
    "iris"
   ]
  },
  {
   "cell_type": "markdown",
   "metadata": {},
   "source": [
    "The returned object `iris` includes the data (4-dimensional data points) and the labels (integer associated to each datapoint within the dataset)."
   ]
  },
  {
   "cell_type": "code",
   "execution_count": 27,
   "metadata": {},
   "outputs": [],
   "source": [
    "features = iris.data\n",
    "labels = iris.target"
   ]
  },
  {
   "cell_type": "code",
   "execution_count": 49,
   "metadata": {},
   "outputs": [
    {
     "name": "stdout",
     "output_type": "stream",
     "text": [
      "[5.1 3.5 1.4 0.2] => 0\n",
      "[4.9 3.  1.4 0.2] => 0\n",
      "[4.7 3.2 1.3 0.2] => 0\n",
      "[4.6 3.1 1.5 0.2] => 0\n",
      "[5.  3.6 1.4 0.2] => 0\n",
      "[5.4 3.9 1.7 0.4] => 0\n",
      "[4.6 3.4 1.4 0.3] => 0\n",
      "[5.  3.4 1.5 0.2] => 0\n",
      "[4.4 2.9 1.4 0.2] => 0\n",
      "[4.9 3.1 1.5 0.1] => 0\n",
      "[5.4 3.7 1.5 0.2] => 0\n",
      "[4.8 3.4 1.6 0.2] => 0\n",
      "[4.8 3.  1.4 0.1] => 0\n",
      "[4.3 3.  1.1 0.1] => 0\n",
      "[5.8 4.  1.2 0.2] => 0\n",
      "[5.7 4.4 1.5 0.4] => 0\n",
      "[5.4 3.9 1.3 0.4] => 0\n",
      "[5.1 3.5 1.4 0.3] => 0\n",
      "[5.7 3.8 1.7 0.3] => 0\n",
      "[5.1 3.8 1.5 0.3] => 0\n",
      "[5.4 3.4 1.7 0.2] => 0\n",
      "[5.1 3.7 1.5 0.4] => 0\n",
      "[4.6 3.6 1.  0.2] => 0\n",
      "[5.1 3.3 1.7 0.5] => 0\n",
      "[4.8 3.4 1.9 0.2] => 0\n",
      "[5.  3.  1.6 0.2] => 0\n",
      "[5.  3.4 1.6 0.4] => 0\n",
      "[5.2 3.5 1.5 0.2] => 0\n",
      "[5.2 3.4 1.4 0.2] => 0\n",
      "[4.7 3.2 1.6 0.2] => 0\n",
      "[4.8 3.1 1.6 0.2] => 0\n",
      "[5.4 3.4 1.5 0.4] => 0\n",
      "[5.2 4.1 1.5 0.1] => 0\n",
      "[5.5 4.2 1.4 0.2] => 0\n",
      "[4.9 3.1 1.5 0.2] => 0\n",
      "[5.  3.2 1.2 0.2] => 0\n",
      "[5.5 3.5 1.3 0.2] => 0\n",
      "[4.9 3.6 1.4 0.1] => 0\n",
      "[4.4 3.  1.3 0.2] => 0\n",
      "[5.1 3.4 1.5 0.2] => 0\n",
      "[5.  3.5 1.3 0.3] => 0\n",
      "[4.5 2.3 1.3 0.3] => 0\n",
      "[4.4 3.2 1.3 0.2] => 0\n",
      "[5.  3.5 1.6 0.6] => 0\n",
      "[5.1 3.8 1.9 0.4] => 0\n",
      "[4.8 3.  1.4 0.3] => 0\n",
      "[5.1 3.8 1.6 0.2] => 0\n",
      "[4.6 3.2 1.4 0.2] => 0\n",
      "[5.3 3.7 1.5 0.2] => 0\n",
      "[5.  3.3 1.4 0.2] => 0\n",
      "[7.  3.2 4.7 1.4] => 1\n",
      "[6.4 3.2 4.5 1.5] => 1\n",
      "[6.9 3.1 4.9 1.5] => 1\n",
      "[5.5 2.3 4.  1.3] => 1\n",
      "[6.5 2.8 4.6 1.5] => 1\n",
      "[5.7 2.8 4.5 1.3] => 1\n",
      "[6.3 3.3 4.7 1.6] => 1\n",
      "[4.9 2.4 3.3 1. ] => 1\n",
      "[6.6 2.9 4.6 1.3] => 1\n",
      "[5.2 2.7 3.9 1.4] => 1\n",
      "[5.  2.  3.5 1. ] => 1\n",
      "[5.9 3.  4.2 1.5] => 1\n",
      "[6.  2.2 4.  1. ] => 1\n",
      "[6.1 2.9 4.7 1.4] => 1\n",
      "[5.6 2.9 3.6 1.3] => 1\n",
      "[6.7 3.1 4.4 1.4] => 1\n",
      "[5.6 3.  4.5 1.5] => 1\n",
      "[5.8 2.7 4.1 1. ] => 1\n",
      "[6.2 2.2 4.5 1.5] => 1\n",
      "[5.6 2.5 3.9 1.1] => 1\n",
      "[5.9 3.2 4.8 1.8] => 1\n",
      "[6.1 2.8 4.  1.3] => 1\n",
      "[6.3 2.5 4.9 1.5] => 1\n",
      "[6.1 2.8 4.7 1.2] => 1\n",
      "[6.4 2.9 4.3 1.3] => 1\n",
      "[6.6 3.  4.4 1.4] => 1\n",
      "[6.8 2.8 4.8 1.4] => 1\n",
      "[6.7 3.  5.  1.7] => 1\n",
      "[6.  2.9 4.5 1.5] => 1\n",
      "[5.7 2.6 3.5 1. ] => 1\n",
      "[5.5 2.4 3.8 1.1] => 1\n",
      "[5.5 2.4 3.7 1. ] => 1\n",
      "[5.8 2.7 3.9 1.2] => 1\n",
      "[6.  2.7 5.1 1.6] => 1\n",
      "[5.4 3.  4.5 1.5] => 1\n",
      "[6.  3.4 4.5 1.6] => 1\n",
      "[6.7 3.1 4.7 1.5] => 1\n",
      "[6.3 2.3 4.4 1.3] => 1\n",
      "[5.6 3.  4.1 1.3] => 1\n",
      "[5.5 2.5 4.  1.3] => 1\n",
      "[5.5 2.6 4.4 1.2] => 1\n",
      "[6.1 3.  4.6 1.4] => 1\n",
      "[5.8 2.6 4.  1.2] => 1\n",
      "[5.  2.3 3.3 1. ] => 1\n",
      "[5.6 2.7 4.2 1.3] => 1\n",
      "[5.7 3.  4.2 1.2] => 1\n",
      "[5.7 2.9 4.2 1.3] => 1\n",
      "[6.2 2.9 4.3 1.3] => 1\n",
      "[5.1 2.5 3.  1.1] => 1\n",
      "[5.7 2.8 4.1 1.3] => 1\n",
      "[6.3 3.3 6.  2.5] => 2\n",
      "[5.8 2.7 5.1 1.9] => 2\n",
      "[7.1 3.  5.9 2.1] => 2\n",
      "[6.3 2.9 5.6 1.8] => 2\n",
      "[6.5 3.  5.8 2.2] => 2\n",
      "[7.6 3.  6.6 2.1] => 2\n",
      "[4.9 2.5 4.5 1.7] => 2\n",
      "[7.3 2.9 6.3 1.8] => 2\n",
      "[6.7 2.5 5.8 1.8] => 2\n",
      "[7.2 3.6 6.1 2.5] => 2\n",
      "[6.5 3.2 5.1 2. ] => 2\n",
      "[6.4 2.7 5.3 1.9] => 2\n",
      "[6.8 3.  5.5 2.1] => 2\n",
      "[5.7 2.5 5.  2. ] => 2\n",
      "[5.8 2.8 5.1 2.4] => 2\n",
      "[6.4 3.2 5.3 2.3] => 2\n",
      "[6.5 3.  5.5 1.8] => 2\n",
      "[7.7 3.8 6.7 2.2] => 2\n",
      "[7.7 2.6 6.9 2.3] => 2\n",
      "[6.  2.2 5.  1.5] => 2\n",
      "[6.9 3.2 5.7 2.3] => 2\n",
      "[5.6 2.8 4.9 2. ] => 2\n",
      "[7.7 2.8 6.7 2. ] => 2\n",
      "[6.3 2.7 4.9 1.8] => 2\n",
      "[6.7 3.3 5.7 2.1] => 2\n",
      "[7.2 3.2 6.  1.8] => 2\n",
      "[6.2 2.8 4.8 1.8] => 2\n",
      "[6.1 3.  4.9 1.8] => 2\n",
      "[6.4 2.8 5.6 2.1] => 2\n",
      "[7.2 3.  5.8 1.6] => 2\n",
      "[7.4 2.8 6.1 1.9] => 2\n",
      "[7.9 3.8 6.4 2. ] => 2\n",
      "[6.4 2.8 5.6 2.2] => 2\n",
      "[6.3 2.8 5.1 1.5] => 2\n",
      "[6.1 2.6 5.6 1.4] => 2\n",
      "[7.7 3.  6.1 2.3] => 2\n",
      "[6.3 3.4 5.6 2.4] => 2\n",
      "[6.4 3.1 5.5 1.8] => 2\n",
      "[6.  3.  4.8 1.8] => 2\n",
      "[6.9 3.1 5.4 2.1] => 2\n",
      "[6.7 3.1 5.6 2.4] => 2\n",
      "[6.9 3.1 5.1 2.3] => 2\n",
      "[5.8 2.7 5.1 1.9] => 2\n",
      "[6.8 3.2 5.9 2.3] => 2\n",
      "[6.7 3.3 5.7 2.5] => 2\n",
      "[6.7 3.  5.2 2.3] => 2\n",
      "[6.3 2.5 5.  1.9] => 2\n",
      "[6.5 3.  5.2 2. ] => 2\n",
      "[6.2 3.4 5.4 2.3] => 2\n",
      "[5.9 3.  5.1 1.8] => 2\n"
     ]
    }
   ],
   "source": [
    "for i in range(len(features)):\n",
    "    print(features[i], '=>', labels[i])"
   ]
  },
  {
   "cell_type": "code",
   "execution_count": 30,
   "metadata": {},
   "outputs": [
    {
     "data": {
      "text/plain": [
       "(150, 4)"
      ]
     },
     "execution_count": 30,
     "metadata": {},
     "output_type": "execute_result"
    }
   ],
   "source": [
    "features.shape"
   ]
  },
  {
   "cell_type": "code",
   "execution_count": 31,
   "metadata": {},
   "outputs": [
    {
     "data": {
      "text/plain": [
       "150"
      ]
     },
     "execution_count": 31,
     "metadata": {},
     "output_type": "execute_result"
    }
   ],
   "source": [
    "len(labels)"
   ]
  },
  {
   "cell_type": "code",
   "execution_count": 32,
   "metadata": {},
   "outputs": [
    {
     "data": {
      "text/plain": [
       "4"
      ]
     },
     "execution_count": 32,
     "metadata": {},
     "output_type": "execute_result"
    }
   ],
   "source": [
    "len(features[0])"
   ]
  },
  {
   "cell_type": "code",
   "execution_count": 47,
   "metadata": {},
   "outputs": [
    {
     "data": {
      "text/plain": [
       "array([[6.7, 3.1, 5.6, 2.4],\n",
       "       [6.9, 3.1, 5.1, 2.3],\n",
       "       [5.8, 2.7, 5.1, 1.9],\n",
       "       [6.8, 3.2, 5.9, 2.3],\n",
       "       [6.7, 3.3, 5.7, 2.5],\n",
       "       [6.7, 3. , 5.2, 2.3],\n",
       "       [6.3, 2.5, 5. , 1.9],\n",
       "       [6.5, 3. , 5.2, 2. ],\n",
       "       [6.2, 3.4, 5.4, 2.3],\n",
       "       [5.9, 3. , 5.1, 1.8]])"
      ]
     },
     "execution_count": 47,
     "metadata": {},
     "output_type": "execute_result"
    }
   ],
   "source": [
    "# printing the first 5 samples in the dataset\n",
    "features[-10:,]"
   ]
  },
  {
   "cell_type": "code",
   "execution_count": 48,
   "metadata": {},
   "outputs": [
    {
     "data": {
      "text/plain": [
       "array([0, 0, 0, 0, 0, 0, 0, 0, 0, 0, 0, 0, 0, 0, 0, 0, 0, 0, 0, 0, 0, 0,\n",
       "       0, 0, 0, 0, 0, 0, 0, 0, 0, 0, 0, 0, 0, 0, 0, 0, 0, 0, 0, 0, 0, 0,\n",
       "       0, 0, 0, 0, 0, 0, 1, 1, 1, 1, 1, 1, 1, 1, 1, 1, 1, 1, 1, 1, 1, 1,\n",
       "       1, 1, 1, 1, 1, 1, 1, 1, 1, 1, 1, 1, 1, 1, 1, 1, 1, 1, 1, 1, 1, 1,\n",
       "       1, 1, 1, 1, 1, 1, 1, 1, 1, 1, 1, 1, 2, 2, 2, 2, 2, 2, 2, 2, 2, 2,\n",
       "       2, 2, 2, 2, 2, 2, 2, 2, 2, 2, 2, 2, 2, 2, 2, 2, 2, 2, 2, 2, 2, 2,\n",
       "       2, 2, 2, 2, 2, 2, 2, 2, 2, 2, 2, 2, 2, 2, 2, 2, 2, 2])"
      ]
     },
     "execution_count": 48,
     "metadata": {},
     "output_type": "execute_result"
    }
   ],
   "source": [
    "labels"
   ]
  },
  {
   "cell_type": "markdown",
   "metadata": {},
   "source": [
    "**GOAL** to learn the relationship between each 4-dimensional vector (for instance `[4.9, 3. , 1.4]`) and the associated label (for instance `0`)"
   ]
  },
  {
   "cell_type": "markdown",
   "metadata": {},
   "source": [
    "### Simple statistics\n",
    "\n",
    "Before starting to train algorithms on a given dataset, it is good practice to \"visualise\" the dataset as much as you can. \n",
    "\n",
    "This has several benefits: \n",
    "- to better understand the nature of the data, \n",
    "- to better understand the complexity of the data, \n",
    "- to better scope the class of model would do a good job on these data, \n",
    "- and to better understand model's results. \n",
    "\n",
    "By \"visualising\" a dataset, I mean having different metrics that can help these understandings. The simplest way is through simple statistics: computing the means and standard deviations of the data. \n"
   ]
  },
  {
   "cell_type": "code",
   "execution_count": 39,
   "metadata": {},
   "outputs": [
    {
     "data": {
      "text/plain": [
       "3.266666666666667"
      ]
     },
     "execution_count": 39,
     "metadata": {},
     "output_type": "execute_result"
    }
   ],
   "source": [
    "(2.1 + 3.4 + 4.3) / 3"
   ]
  },
  {
   "cell_type": "code",
   "execution_count": 40,
   "metadata": {},
   "outputs": [
    {
     "data": {
      "text/plain": [
       "0.9031057523900509"
      ]
     },
     "execution_count": 40,
     "metadata": {},
     "output_type": "execute_result"
    }
   ],
   "source": [
    "sqrt( ((2.1 - 3.26)**2 + (3.4 - 3.26)**2 + (4.3 - 3.26)**2 ) / 3 )"
   ]
  },
  {
   "cell_type": "markdown",
   "metadata": {},
   "source": [
    "In Python, this can be computed with `numpy` functions: `np.mean` for computing a mean over one axis of the data, and `np.std` to compute the standard deviation over one axis (the variance could also be considered using `np.var`)."
   ]
  },
  {
   "cell_type": "code",
   "execution_count": 42,
   "metadata": {},
   "outputs": [
    {
     "name": "stdout",
     "output_type": "stream",
     "text": [
      "3.266666666666667\n",
      "0.9030811456096044\n",
      "0.8155555555555555\n"
     ]
    }
   ],
   "source": [
    "v = [2.1, 3.4, 4.3]\n",
    "print(np.mean(v))\n",
    "print(np.std(v))\n",
    "print(np.var(v))"
   ]
  },
  {
   "cell_type": "markdown",
   "metadata": {},
   "source": [
    "Let's compute the mean and standard deviation of the Iris features:"
   ]
  },
  {
   "cell_type": "code",
   "execution_count": 45,
   "metadata": {},
   "outputs": [
    {
     "data": {
      "text/plain": [
       "array([5.84333333, 3.05733333, 3.758     , 1.19933333])"
      ]
     },
     "execution_count": 45,
     "metadata": {},
     "output_type": "execute_result"
    }
   ],
   "source": [
    "np.mean(features, axis=0)"
   ]
  },
  {
   "cell_type": "code",
   "execution_count": 46,
   "metadata": {},
   "outputs": [
    {
     "data": {
      "text/plain": [
       "array([0.82530129, 0.43441097, 1.75940407, 0.75969263])"
      ]
     },
     "execution_count": 46,
     "metadata": {},
     "output_type": "execute_result"
    }
   ],
   "source": [
    "np.std(features, axis=0)"
   ]
  },
  {
   "cell_type": "markdown",
   "metadata": {},
   "source": [
    "This give a **very** rough and insufficient information about the dataset. The next step is to inspect the means and standard deviations of the data, computed per class. "
   ]
  },
  {
   "cell_type": "markdown",
   "metadata": {},
   "source": [
    "<img src=\"assets/exerice-icon.png\" style=\"width:80px; float:left;\"></img><div style=\"clear:left;\"></div>\n",
    "**EXERCICE:** Compute means and standard deviation of the features for each class. Store in `means` and `stds` lists."
   ]
  },
  {
   "cell_type": "code",
   "execution_count": 54,
   "metadata": {},
   "outputs": [
    {
     "name": "stdout",
     "output_type": "stream",
     "text": [
      "class 0\n",
      "[5.006 3.428 1.462 0.246]\n",
      "[0.34894699 0.37525458 0.17191859 0.10432641]\n",
      "class 1\n",
      "[5.936 2.77  4.26  1.326]\n",
      "[0.51098337 0.31064449 0.46518813 0.19576517]\n",
      "class 2\n",
      "[6.588 2.974 5.552 2.026]\n",
      "[0.62948868 0.31925538 0.54634787 0.27188968]\n"
     ]
    }
   ],
   "source": [
    "classes = [0, 1, 2]\n",
    "means = []\n",
    "stds = []\n",
    "\n",
    "for c in classes:\n",
    "    index_c = np.where(labels == c)[0]\n",
    "    selected_data_of_class_c = features[index_c]\n",
    "    print('class', c)\n",
    "    print(np.mean(selected_data_of_class_c, axis=0))\n",
    "    print(np.std(selected_data_of_class_c, axis=0))\n",
    "    means.append(np.mean(selected_data_of_class_c, axis=0))\n",
    "    stds.append(np.std(selected_data_of_class_c, axis=0))\n"
   ]
  },
  {
   "cell_type": "markdown",
   "metadata": {},
   "source": [
    "Plotting the results"
   ]
  },
  {
   "cell_type": "code",
   "execution_count": null,
   "metadata": {},
   "outputs": [],
   "source": [
    "classes = [0,1,2]"
   ]
  },
  {
   "cell_type": "code",
   "execution_count": 55,
   "metadata": {
    "scrolled": true
   },
   "outputs": [
    {
     "data": {
      "image/png": "[encoded data removed]",
      "text/plain": [
       "<Figure size 1152x432 with 3 Axes>"
      ]
     },
     "metadata": {
      "needs_background": "light"
     },
     "output_type": "display_data"
    }
   ],
   "source": [
    "figure(figsize=(16,6))\n",
    "for c in classes:\n",
    "    plt.subplot(1,3,c+1)\n",
    "    plt.bar([0,1,2,3], means[c], yerr=stds[c])\n",
    "    plt.ylim([0., 7.])\n",
    "    plt.title('Class label ' + str(c))"
   ]
  },
  {
   "cell_type": "markdown",
   "metadata": {},
   "source": [
    "### Graphical visualization"
   ]
  },
  {
   "cell_type": "markdown",
   "metadata": {},
   "source": [
    "The feature dimension is **4**, which makes it hard to visualize in a simple 2-d plot. There are several ways to reduce the dimensions of a dataset. This procedure is simply called *dimension reduction*. I won't detail these techniques here, it is beyond the scope of this lecture. What we will do instead is to select manually two dimensions among the 4 in order to plot the data on a 2-d graph. \n",
    "\n",
    "We start by selecting the two first dimensions and visualize them in a scatter plot."
   ]
  },
  {
   "cell_type": "code",
   "execution_count": 56,
   "metadata": {},
   "outputs": [],
   "source": [
    "data_x = features[:,0] # sepal length\n",
    "data_y = features[:,1] # sepal width"
   ]
  },
  {
   "cell_type": "code",
   "execution_count": 57,
   "metadata": {},
   "outputs": [],
   "source": [
    "plt.rcParams['image.cmap'] = 'Set1'\n",
    "cmap = matplotlib.cm.get_cmap('Set1')"
   ]
  },
  {
   "cell_type": "code",
   "execution_count": 58,
   "metadata": {},
   "outputs": [
    {
     "data": {
      "text/plain": [
       "<matplotlib.collections.PathCollection at 0x11f33a160>"
      ]
     },
     "execution_count": 58,
     "metadata": {},
     "output_type": "execute_result"
    },
    {
     "data": {
      "image/png": "[encoded data removed]",
      "text/plain": [
       "<Figure size 432x288 with 1 Axes>"
      ]
     },
     "metadata": {
      "needs_background": "light"
     },
     "output_type": "display_data"
    }
   ],
   "source": [
    "plt.scatter(data_x, data_y)"
   ]
  },
  {
   "cell_type": "code",
   "execution_count": 59,
   "metadata": {},
   "outputs": [
    {
     "data": {
      "text/plain": [
       "<matplotlib.collections.PathCollection at 0x11f40ed68>"
      ]
     },
     "execution_count": 59,
     "metadata": {},
     "output_type": "execute_result"
    },
    {
     "data": {
      "image/png": "[encoded data removed]",
      "text/plain": [
       "<Figure size 432x288 with 1 Axes>"
      ]
     },
     "metadata": {
      "needs_background": "light"
     },
     "output_type": "display_data"
    }
   ],
   "source": [
    "plt.scatter(data_x, data_y, c=cmap(labels))"
   ]
  },
  {
   "cell_type": "markdown",
   "metadata": {},
   "source": [
    "**NOTE**: graphs always need legends and axis labelling!!"
   ]
  },
  {
   "cell_type": "code",
   "execution_count": 60,
   "metadata": {},
   "outputs": [],
   "source": [
    "from basics.utils import get_iris_data\n",
    "features_c0, _, _ = get_iris_data(classes=[0])\n",
    "features_c1, _, _ = get_iris_data(classes=[1])\n",
    "features_c2, _, _ = get_iris_data(classes=[2])"
   ]
  },
  {
   "cell_type": "code",
   "execution_count": 61,
   "metadata": {},
   "outputs": [],
   "source": [
    "dim1 = 0\n",
    "dim2 = 1"
   ]
  },
  {
   "cell_type": "code",
   "execution_count": 62,
   "metadata": {},
   "outputs": [
    {
     "name": "stderr",
     "output_type": "stream",
     "text": [
      "'c' argument looks like a single numeric RGB or RGBA sequence, which should be avoided as value-mapping will have precedence in case its length matches with 'x' & 'y'.  Please use a 2-D array with a single row if you really want to specify the same RGB or RGBA value for all points.\n",
      "'c' argument looks like a single numeric RGB or RGBA sequence, which should be avoided as value-mapping will have precedence in case its length matches with 'x' & 'y'.  Please use a 2-D array with a single row if you really want to specify the same RGB or RGBA value for all points.\n",
      "'c' argument looks like a single numeric RGB or RGBA sequence, which should be avoided as value-mapping will have precedence in case its length matches with 'x' & 'y'.  Please use a 2-D array with a single row if you really want to specify the same RGB or RGBA value for all points.\n"
     ]
    },
    {
     "data": {
      "text/plain": [
       "<matplotlib.legend.Legend at 0x11f7bbeb8>"
      ]
     },
     "execution_count": 62,
     "metadata": {},
     "output_type": "execute_result"
    },
    {
     "data": {
      "image/png": "[encoded data removed]",
      "text/plain": [
       "<Figure size 432x288 with 1 Axes>"
      ]
     },
     "metadata": {
      "needs_background": "light"
     },
     "output_type": "display_data"
    }
   ],
   "source": [
    "data_x = features_c0[:,dim1] # sepal length\n",
    "data_y = features_c0[:,dim2] # sepal width\n",
    "scatter(data_x, data_y, c=cmap(0), label='class 1')\n",
    "\n",
    "data_x = features_c1[:,dim1] # sepal length\n",
    "data_y = features_c1[:,dim2] # sepal width\n",
    "scatter(data_x, data_y, c=cmap(1), label='class 2')\n",
    "\n",
    "data_x = features_c2[:,dim1] # sepal length\n",
    "data_y = features_c2[:,dim2] # sepal width\n",
    "scatter(data_x, data_y, c=cmap(2), label='class 3')\n",
    "\n",
    "xlabel(\"Dimension 1: Sepal Length\")\n",
    "ylabel(\"Dimension 2: Sepal Width\")\n",
    "legend()"
   ]
  },
  {
   "cell_type": "markdown",
   "metadata": {},
   "source": [
    "**QUESTIONS**: \n",
    "- What can we say on the data based on this graph?\n",
    "- Can we find a better representation space?"
   ]
  },
  {
   "cell_type": "markdown",
   "metadata": {},
   "source": [
    "<img src=\"assets/exerice-icon.png\" style=\"width:80px; float:left;\"></img><div style=\"clear:left;\"></div>\n",
    "**EXERCICE:** Visualise other dimensions of the dataset. Try to find the best visualisation"
   ]
  },
  {
   "cell_type": "code",
   "execution_count": 68,
   "metadata": {},
   "outputs": [
    {
     "data": {
      "text/plain": [
       "Text(0, 0.5, 'column 3')"
      ]
     },
     "execution_count": 68,
     "metadata": {},
     "output_type": "execute_result"
    },
    {
     "data": {
      "image/png": "[encoded data removed]",
      "text/plain": [
       "<Figure size 432x288 with 1 Axes>"
      ]
     },
     "metadata": {
      "needs_background": "light"
     },
     "output_type": "display_data"
    }
   ],
   "source": [
    "data_x = features[:,2] # petal length\n",
    "data_y = features[:,3] # petal width\n",
    "plt.scatter(data_x, data_y, c=cmap(labels))\n",
    "plt.xlabel('column 2')\n",
    "plt.ylabel('column 3')"
   ]
  },
  {
   "cell_type": "markdown",
   "metadata": {},
   "source": [
    "Here we could find an heuristics to classify new datapoints as being in class 1, 2 or 3."
   ]
  },
  {
   "cell_type": "markdown",
   "metadata": {},
   "source": [
    "Exploring by hand may be good to understand the data but it is too tedious to find the best criteria highlighting patterns in the data. That's why **Machine Learning** exists: finding underlying patterns and being able to generalise, that is make prediction, based on these patterns, on unseen data."
   ]
  },
  {
   "cell_type": "markdown",
   "metadata": {},
   "source": [
    "<a name=\"toyex_training\"></a>\n",
    "# Training a Classifier on the Iris Dataset"
   ]
  },
  {
   "cell_type": "markdown",
   "metadata": {},
   "source": [
    "As use case, we will explore classifier training with the **Support Vector Machine (SVM)**. The support vector machine, in its simplest version, is a **linear discriminant model** which means that the technique tries to discriminate between classes using lieanr function (basically lines in 2D, planes in 3D, hyperplanes otherwise). \n",
    "\n",
    "Another way to say it is that the **decision boundaries** are linear. \n",
    "\n",
    "Useful readings (although a bit techncial) to know more about SVM:\n",
    "* C Cortes, V Vapnik. Support-vector networks. _Machine learning_ 20 (3), 273-297, 1995\n",
    "* B Schölkopf, AJ Smola. Learning with kernels: support vector machines, regularization, optimization, and beyond. *MIT press*, 2002\n",
    "\n",
    "SVM in sklearn can be imported simply using:"
   ]
  },
  {
   "cell_type": "code",
   "execution_count": 69,
   "metadata": {},
   "outputs": [],
   "source": [
    "from sklearn import svm"
   ]
  },
  {
   "cell_type": "markdown",
   "metadata": {},
   "source": [
    "Initialize a new SVM instance called `classifier`:"
   ]
  },
  {
   "cell_type": "code",
   "execution_count": 70,
   "metadata": {},
   "outputs": [],
   "source": [
    "classifier = svm.SVC()"
   ]
  },
  {
   "cell_type": "code",
   "execution_count": 71,
   "metadata": {},
   "outputs": [
    {
     "data": {
      "text/plain": [
       "SVC(C=1.0, cache_size=200, class_weight=None, coef0=0.0,\n",
       "    decision_function_shape='ovr', degree=3, gamma='auto_deprecated',\n",
       "    kernel='rbf', max_iter=-1, probability=False, random_state=None,\n",
       "    shrinking=True, tol=0.001, verbose=False)"
      ]
     },
     "execution_count": 71,
     "metadata": {},
     "output_type": "execute_result"
    }
   ],
   "source": [
    "classifier"
   ]
  },
  {
   "cell_type": "markdown",
   "metadata": {},
   "source": [
    "We use the linear version (simpler) of support vector machine:"
   ]
  },
  {
   "cell_type": "markdown",
   "metadata": {},
   "source": [
    "<img src='assets/clf_lin_nonlin.png' style='width:70%'></img>"
   ]
  },
  {
   "cell_type": "code",
   "execution_count": 72,
   "metadata": {},
   "outputs": [],
   "source": [
    "classifier = svm.SVC(kernel='linear')"
   ]
  },
  {
   "cell_type": "code",
   "execution_count": 73,
   "metadata": {
    "scrolled": true
   },
   "outputs": [
    {
     "data": {
      "text/plain": [
       "SVC(C=1.0, cache_size=200, class_weight=None, coef0=0.0,\n",
       "    decision_function_shape='ovr', degree=3, gamma='auto_deprecated',\n",
       "    kernel='linear', max_iter=-1, probability=False, random_state=None,\n",
       "    shrinking=True, tol=0.001, verbose=False)"
      ]
     },
     "execution_count": 73,
     "metadata": {},
     "output_type": "execute_result"
    }
   ],
   "source": [
    "classifier"
   ]
  },
  {
   "cell_type": "markdown",
   "metadata": {},
   "source": [
    "## Training SVM"
   ]
  },
  {
   "cell_type": "markdown",
   "metadata": {},
   "source": [
    "Reminder: classification is a **supervised learning** task, meaning that it learns the function mapping feature samples to known labels. "
   ]
  },
  {
   "cell_type": "code",
   "execution_count": null,
   "metadata": {},
   "outputs": [],
   "source": [
    "for n in np.random.randint(len(labels), size=10):\n",
    "    print(features[n,:], '\\t==> ', labels[n])"
   ]
  },
  {
   "cell_type": "markdown",
   "metadata": {},
   "source": [
    "### Training function: `fit()`"
   ]
  },
  {
   "cell_type": "markdown",
   "metadata": {},
   "source": [
    "In `scikit-learn`, any trainable method has a function called `fit()` which takes a set of features and a set of corresponding labels as arguments, and trains the model:\n",
    "* `fit` is the generic function to train any methods in `sklearn`\n",
    "* for supervised methods, `fit` accepts two arguments: the feature data and their labels, that is `fit(X_train, y_train)`\n",
    "* for unsupervised methods, `fit` accepts only one argument: the feature data, that is `fit(X_train)`"
   ]
  },
  {
   "cell_type": "markdown",
   "metadata": {},
   "source": [
    "Training on the full dataset:"
   ]
  },
  {
   "cell_type": "code",
   "execution_count": 74,
   "metadata": {},
   "outputs": [],
   "source": [
    "classifier.fit(features, labels);"
   ]
  },
  {
   "cell_type": "markdown",
   "metadata": {},
   "source": [
    "Training on the two dimensions visualized previously:"
   ]
  },
  {
   "cell_type": "code",
   "execution_count": 75,
   "metadata": {},
   "outputs": [
    {
     "data": {
      "image/png": "[encoded data removed]",
      "text/plain": [
       "<Figure size 432x288 with 1 Axes>"
      ]
     },
     "metadata": {
      "needs_background": "light"
     },
     "output_type": "display_data"
    }
   ],
   "source": [
    "data_x = features[:,2] # petal length\n",
    "data_y = features[:,3] # petal width\n",
    "scatter(data_x, data_y, c=cmap(labels))\n",
    "\n",
    "classifier.fit(features[:,2:], labels);"
   ]
  },
  {
   "cell_type": "markdown",
   "metadata": {},
   "source": [
    "### Understanding *training* in SVM"
   ]
  },
  {
   "cell_type": "markdown",
   "metadata": {},
   "source": [
    "Understanding training procedure in machine learning starts by understanding the **decision boundary** which is the set of borders delimiting regions in the feature space associated to each labels. Let's take the two last dimensions of the iris data:"
   ]
  },
  {
   "cell_type": "code",
   "execution_count": 76,
   "metadata": {
    "scrolled": true
   },
   "outputs": [
    {
     "data": {
      "text/plain": [
       "<matplotlib.collections.PathCollection at 0x120207240>"
      ]
     },
     "execution_count": 76,
     "metadata": {},
     "output_type": "execute_result"
    },
    {
     "data": {
      "image/png": "[encoded data removed]",
      "text/plain": [
       "<Figure size 432x288 with 1 Axes>"
      ]
     },
     "metadata": {
      "needs_background": "light"
     },
     "output_type": "display_data"
    }
   ],
   "source": [
    "scatter(features[:,2], features[:,3], c=cmap(labels))"
   ]
  },
  {
   "cell_type": "markdown",
   "metadata": {},
   "source": [
    "Let's consider only two classes given by the <span style=\"color:#DD0000;\">**RED**</span> and <span style=\"color:#0000DD;\">**BLUE**</span> colours (class 0 and 1 respectively)"
   ]
  },
  {
   "cell_type": "code",
   "execution_count": 77,
   "metadata": {},
   "outputs": [
    {
     "name": "stdout",
     "output_type": "stream",
     "text": [
      "(100, 4) (100, 4) (100,)\n"
     ]
    }
   ],
   "source": [
    "from basics.utils import get_iris_data\n",
    "features, labels, colors = get_iris_data(classes=[0,1])\n",
    "print(colors.shape, features.shape, labels.shape)"
   ]
  },
  {
   "cell_type": "code",
   "execution_count": 78,
   "metadata": {},
   "outputs": [],
   "source": [
    "X_train = features[:, 2:]\n",
    "y_train = labels"
   ]
  },
  {
   "cell_type": "code",
   "execution_count": 79,
   "metadata": {},
   "outputs": [
    {
     "data": {
      "text/plain": [
       "<matplotlib.collections.PathCollection at 0x12016a6d8>"
      ]
     },
     "execution_count": 79,
     "metadata": {},
     "output_type": "execute_result"
    },
    {
     "data": {
      "image/png": "[encoded data removed]",
      "text/plain": [
       "<Figure size 432x288 with 1 Axes>"
      ]
     },
     "metadata": {
      "needs_background": "light"
     },
     "output_type": "display_data"
    }
   ],
   "source": [
    "scatter(X_train[:,0], X_train[:,1], color=colors)"
   ]
  },
  {
   "cell_type": "markdown",
   "metadata": {},
   "source": [
    "**Question: what is the best decision boundary between classes 0 and 1?**\n",
    "\n",
    "Linear models, such as SVM, consider linear decision boundaries. In a 2-dimensional space, a linear decision boundary is a **line**. A line can be defined by 2 parameters:"
   ]
  },
  {
   "cell_type": "code",
   "execution_count": 81,
   "metadata": {},
   "outputs": [],
   "source": [
    "slope = -0.1\n",
    "intercept = 1.2"
   ]
  },
  {
   "cell_type": "markdown",
   "metadata": {},
   "source": [
    "We generate the corresponding line:"
   ]
  },
  {
   "cell_type": "code",
   "execution_count": 82,
   "metadata": {},
   "outputs": [],
   "source": [
    "boundary_x = np.linspace(1,5)\n",
    "boundary_y = slope * boundary_x + intercept"
   ]
  },
  {
   "cell_type": "code",
   "execution_count": 83,
   "metadata": {},
   "outputs": [
    {
     "data": {
      "text/plain": [
       "[<matplotlib.lines.Line2D at 0x1203b07f0>]"
      ]
     },
     "execution_count": 83,
     "metadata": {},
     "output_type": "execute_result"
    },
    {
     "data": {
      "image/png": "[encoded data removed]",
      "text/plain": [
       "<Figure size 432x288 with 1 Axes>"
      ]
     },
     "metadata": {
      "needs_background": "light"
     },
     "output_type": "display_data"
    }
   ],
   "source": [
    "scatter(X_train[:,0], X_train[:,1], color=colors)\n",
    "plot(boundary_x, boundary_y, '-k')"
   ]
  },
  {
   "cell_type": "markdown",
   "metadata": {},
   "source": [
    "**Question: Is that good enough?**\n",
    "\n",
    "Let's imagine that we have a new point coming in with data `(3.5, 0.7)`"
   ]
  },
  {
   "cell_type": "code",
   "execution_count": 84,
   "metadata": {},
   "outputs": [
    {
     "data": {
      "text/plain": [
       "<matplotlib.collections.PathCollection at 0x1204ded30>"
      ]
     },
     "execution_count": 84,
     "metadata": {},
     "output_type": "execute_result"
    },
    {
     "data": {
      "image/png": "[encoded data removed]",
      "text/plain": [
       "<Figure size 432x288 with 1 Axes>"
      ]
     },
     "metadata": {
      "needs_background": "light"
     },
     "output_type": "display_data"
    }
   ],
   "source": [
    "scatter(X_train[:,0], X_train[:,1], c=colors)\n",
    "plot(boundary_x, boundary_y, '-k')\n",
    "scatter(3.5, 0.7, c='green', s=150)"
   ]
  },
  {
   "cell_type": "markdown",
   "metadata": {},
   "source": [
    "What do you think? Which class does the blue point belong to? \n",
    "\n",
    "Let's try other values for the slope and the intercept..."
   ]
  },
  {
   "cell_type": "code",
   "execution_count": 85,
   "metadata": {},
   "outputs": [],
   "source": [
    "slope = -1.0\n",
    "intercept = 3.2"
   ]
  },
  {
   "cell_type": "code",
   "execution_count": 86,
   "metadata": {
    "scrolled": true
   },
   "outputs": [
    {
     "data": {
      "text/plain": [
       "[<matplotlib.lines.Line2D at 0x1205969e8>]"
      ]
     },
     "execution_count": 86,
     "metadata": {},
     "output_type": "execute_result"
    },
    {
     "data": {
      "image/png": "[encoded data removed]",
      "text/plain": [
       "<Figure size 432x288 with 1 Axes>"
      ]
     },
     "metadata": {
      "needs_background": "light"
     },
     "output_type": "display_data"
    }
   ],
   "source": [
    "boundary_x = np.linspace(1,4)\n",
    "boundary_y = slope * boundary_x + intercept\n",
    "\n",
    "scatter(X_train[:,0], X_train[:,1], c=colors)\n",
    "plot(boundary_x, boundary_y, '-k')"
   ]
  },
  {
   "cell_type": "markdown",
   "metadata": {},
   "source": [
    "=> Looks better...."
   ]
  },
  {
   "cell_type": "markdown",
   "metadata": {},
   "source": [
    "About **training** in SVM:\n",
    "* means finding the **best parameters** wrt the set of samples\n",
    "* can often be understood as an **OPTIMIZATION** problem (i.e. finding a decision boundary such as miminzing a certain **cost function**)"
   ]
  },
  {
   "cell_type": "code",
   "execution_count": 87,
   "metadata": {},
   "outputs": [],
   "source": [
    "classifier.fit(features[:,2:], labels);"
   ]
  },
  {
   "cell_type": "code",
   "execution_count": 88,
   "metadata": {},
   "outputs": [],
   "source": [
    "coefs = classifier.coef_[0]\n",
    "slope = -coefs[0] / coefs[1]\n",
    "intercept = classifier.intercept_[0] / coefs[1]"
   ]
  },
  {
   "cell_type": "code",
   "execution_count": 89,
   "metadata": {},
   "outputs": [
    {
     "data": {
      "text/plain": [
       "-1.5714285714285714"
      ]
     },
     "execution_count": 89,
     "metadata": {},
     "output_type": "execute_result"
    }
   ],
   "source": [
    "slope"
   ]
  },
  {
   "cell_type": "code",
   "execution_count": 90,
   "metadata": {},
   "outputs": [
    {
     "data": {
      "text/plain": [
       "-4.685714244842528"
      ]
     },
     "execution_count": 90,
     "metadata": {},
     "output_type": "execute_result"
    }
   ],
   "source": [
    "intercept"
   ]
  },
  {
   "cell_type": "code",
   "execution_count": 91,
   "metadata": {},
   "outputs": [],
   "source": [
    "boundary_x = np.linspace(1.5,3.5)\n",
    "boundary_y = slope * boundary_x - intercept"
   ]
  },
  {
   "cell_type": "code",
   "execution_count": 92,
   "metadata": {},
   "outputs": [
    {
     "data": {
      "text/plain": [
       "[<matplotlib.lines.Line2D at 0x11fa62cc0>]"
      ]
     },
     "execution_count": 92,
     "metadata": {},
     "output_type": "execute_result"
    },
    {
     "data": {
      "image/png": "[encoded data removed]",
      "text/plain": [
       "<Figure size 432x288 with 1 Axes>"
      ]
     },
     "metadata": {
      "needs_background": "light"
     },
     "output_type": "display_data"
    }
   ],
   "source": [
    "scatter(X_train[:,0], X_train[:,1], c=colors)\n",
    "plot(boundary_x, boundary_y, '-k')"
   ]
  },
  {
   "cell_type": "markdown",
   "metadata": {},
   "source": [
    "<img src=\"assets/exerice-icon.png\" style=\"width:80px; float:left;\"></img><div style=\"clear:left;\"></div>\n",
    "**EXERCICE:** Train a SVM classifier on the 4-dimensional feature data. What does it change? "
   ]
  },
  {
   "cell_type": "code",
   "execution_count": null,
   "metadata": {},
   "outputs": [],
   "source": [
    "# TODO"
   ]
  },
  {
   "cell_type": "markdown",
   "metadata": {},
   "source": [
    "### Visualising boundaries as regions"
   ]
  },
  {
   "cell_type": "markdown",
   "metadata": {},
   "source": [
    "Instead of visualising the decision boundary, it is sometimes clearer to highlight regions of each class. "
   ]
  },
  {
   "cell_type": "code",
   "execution_count": 93,
   "metadata": {},
   "outputs": [],
   "source": [
    "mesh_x = np.linspace(0.75, 5.3, 200)\n",
    "mesh_y = np.linspace(-0.8, 2.5, 200)"
   ]
  },
  {
   "cell_type": "code",
   "execution_count": 94,
   "metadata": {},
   "outputs": [],
   "source": [
    "classifier.fit(features[:,2:], labels);"
   ]
  },
  {
   "cell_type": "code",
   "execution_count": 95,
   "metadata": {},
   "outputs": [],
   "source": [
    "decision_area = np.zeros((len(mesh_x), len(mesh_y)))\n",
    "for i, x in enumerate(mesh_x):\n",
    "    for j, y in enumerate(mesh_y):\n",
    "        data_point = np.array([x, y]).reshape(1, 2)\n",
    "        decision_area[i,j] = classifier.predict(data_point)"
   ]
  },
  {
   "cell_type": "code",
   "execution_count": 96,
   "metadata": {},
   "outputs": [
    {
     "data": {
      "text/plain": [
       "<matplotlib.collections.PathCollection at 0x1206a3160>"
      ]
     },
     "execution_count": 96,
     "metadata": {},
     "output_type": "execute_result"
    },
    {
     "data": {
      "image/png": "[encoded data removed]",
      "text/plain": [
       "<Figure size 432x288 with 1 Axes>"
      ]
     },
     "metadata": {
      "needs_background": "light"
     },
     "output_type": "display_data"
    }
   ],
   "source": [
    "pcolormesh(mesh_x, mesh_y, decision_area.T, alpha=0.1)\n",
    "scatter(X_train[:,0], X_train[:,1], c=y_train, edgecolor='black')"
   ]
  },
  {
   "cell_type": "markdown",
   "metadata": {},
   "source": [
    "**QUESTION**: Why is it useful? "
   ]
  },
  {
   "cell_type": "markdown",
   "metadata": {},
   "source": [
    "-> Linked to the goal of machine learning in general: **generalisability**"
   ]
  },
  {
   "cell_type": "markdown",
   "metadata": {},
   "source": [
    "Let's inspect more complex decision boundaries"
   ]
  },
  {
   "cell_type": "code",
   "execution_count": 97,
   "metadata": {},
   "outputs": [
    {
     "name": "stderr",
     "output_type": "stream",
     "text": [
      "/Library/Frameworks/Python.framework/Versions/3.7/lib/python3.7/site-packages/sklearn/svm/base.py:193: FutureWarning: The default value of gamma will change from 'auto' to 'scale' in version 0.22 to account better for unscaled features. Set gamma explicitly to 'auto' or 'scale' to avoid this warning.\n",
      "  \"avoid this warning.\", FutureWarning)\n"
     ]
    }
   ],
   "source": [
    "features, labels, colors = get_iris_data(classes=[0,1])\n",
    "X_train = features[:, 2:]\n",
    "y_train = labels\n",
    "classifier = svm.SVC(kernel='rbf') # <= NON-LINEAR \n",
    "classifier.fit(X_train, y_train);"
   ]
  },
  {
   "cell_type": "code",
   "execution_count": 98,
   "metadata": {
    "scrolled": false
   },
   "outputs": [
    {
     "data": {
      "text/plain": [
       "<matplotlib.collections.PathCollection at 0x12073c9e8>"
      ]
     },
     "execution_count": 98,
     "metadata": {},
     "output_type": "execute_result"
    },
    {
     "data": {
      "image/png": "[encoded data removed]",
      "text/plain": [
       "<Figure size 432x288 with 1 Axes>"
      ]
     },
     "metadata": {
      "needs_background": "light"
     },
     "output_type": "display_data"
    }
   ],
   "source": [
    "decision_area = np.zeros((len(mesh_x), len(mesh_y)))\n",
    "for i, x in enumerate(mesh_x):\n",
    "    for j, y in enumerate(mesh_y):\n",
    "        data_point = np.array([x, y]).reshape(1, 2)\n",
    "        decision_area[i,j] = classifier.predict(data_point)\n",
    "        \n",
    "pcolormesh(mesh_x, mesh_y, decision_area.T, alpha=0.1)\n",
    "scatter(X_train[:,0], X_train[:,1], c=y_train, edgecolor='black')"
   ]
  },
  {
   "cell_type": "markdown",
   "metadata": {},
   "source": [
    "### Visualising region boundaries of another type of classifier"
   ]
  },
  {
   "cell_type": "markdown",
   "metadata": {},
   "source": [
    "We consider *kNN*: **k-Nearest Neighbour** (in sklearn: `neighbors.KNeighborsClassifier()`)\n",
    "\n",
    "If you don't know kNN, this classification algorithm assigns a label to a new input vector from a majority vote of its k nearest neighbors:\n",
    "\n",
    "![kNN](https://upload.wikimedia.org/wikipedia/commons/thumb/e/e7/KnnClassification.svg/220px-KnnClassification.svg.png \"kNN\")"
   ]
  },
  {
   "cell_type": "markdown",
   "metadata": {},
   "source": [
    "Sklearn page: https://scikit-learn.org/stable/modules/generated/sklearn.neighbors.KNeighborsClassifier.html"
   ]
  },
  {
   "cell_type": "code",
   "execution_count": 99,
   "metadata": {},
   "outputs": [],
   "source": [
    "from sklearn.neighbors import KNeighborsClassifier"
   ]
  },
  {
   "cell_type": "markdown",
   "metadata": {},
   "source": [
    "Training:"
   ]
  },
  {
   "cell_type": "code",
   "execution_count": 100,
   "metadata": {},
   "outputs": [
    {
     "data": {
      "text/plain": [
       "KNeighborsClassifier(algorithm='auto', leaf_size=30, metric='minkowski',\n",
       "                     metric_params=None, n_jobs=None, n_neighbors=1, p=2,\n",
       "                     weights='uniform')"
      ]
     },
     "execution_count": 100,
     "metadata": {},
     "output_type": "execute_result"
    }
   ],
   "source": [
    "features, labels, colors = get_iris_data(classes=[0,1])\n",
    "X_train = features[:, 2:]\n",
    "y_train = labels\n",
    "classifier = KNeighborsClassifier(n_neighbors=1) # <= NON-LINEAR \n",
    "classifier.fit(X_train, y_train)"
   ]
  },
  {
   "cell_type": "markdown",
   "metadata": {},
   "source": [
    "Plotting:"
   ]
  },
  {
   "cell_type": "code",
   "execution_count": 101,
   "metadata": {},
   "outputs": [
    {
     "data": {
      "text/plain": [
       "<matplotlib.collections.PathCollection at 0x1207a6c18>"
      ]
     },
     "execution_count": 101,
     "metadata": {},
     "output_type": "execute_result"
    },
    {
     "data": {
      "image/png": "[encoded data removed]",
      "text/plain": [
       "<Figure size 432x288 with 1 Axes>"
      ]
     },
     "metadata": {
      "needs_background": "light"
     },
     "output_type": "display_data"
    }
   ],
   "source": [
    "decision_area = np.zeros((len(mesh_x), len(mesh_y)))\n",
    "for i, x in enumerate(mesh_x):\n",
    "    for j, y in enumerate(mesh_y):\n",
    "        data_point = np.array([x, y]).reshape(1, 2)\n",
    "        decision_area[i,j] = classifier.predict(data_point)\n",
    "        \n",
    "pcolormesh(mesh_x, mesh_y, decision_area.T, alpha=0.1)\n",
    "scatter(X_train[:,0], X_train[:,1], c=y_train, edgecolor='black')"
   ]
  },
  {
   "cell_type": "code",
   "execution_count": 102,
   "metadata": {},
   "outputs": [
    {
     "data": {
      "text/plain": [
       "<matplotlib.collections.PathCollection at 0x120f93550>"
      ]
     },
     "execution_count": 102,
     "metadata": {},
     "output_type": "execute_result"
    },
    {
     "data": {
      "image/png": "[encoded data removed]",
      "text/plain": [
       "<Figure size 432x288 with 1 Axes>"
      ]
     },
     "metadata": {
      "needs_background": "light"
     },
     "output_type": "display_data"
    }
   ],
   "source": [
    "features, labels, colors = get_iris_data(classes=[1,2])\n",
    "X_train = features[:, :2]\n",
    "y_train = labels\n",
    "classifier = KNeighborsClassifier(n_neighbors=1) # <= NON-LINEAR \n",
    "classifier.fit(X_train, y_train)\n",
    "mesh_x = np.linspace(4.0, 8.0, 100)\n",
    "mesh_y = np.linspace(2.0, 5.0, 100)\n",
    "decision_area = np.zeros((len(mesh_x), len(mesh_y)))\n",
    "for i, x in enumerate(mesh_x):\n",
    "    for j, y in enumerate(mesh_y):\n",
    "        data_point = np.array([x, y]).reshape(1, 2)\n",
    "        decision_area[i,j] = classifier.predict(data_point)\n",
    "pcolormesh(mesh_x, mesh_y, decision_area.T, alpha=0.1)\n",
    "scatter(X_train[:,0], X_train[:,1], c=y_train, edgecolor='black')"
   ]
  },
  {
   "cell_type": "markdown",
   "metadata": {},
   "source": [
    "<a name=\"toyex_multiclass\"></a>\n",
    "## Multiclass Problem\n",
    "\n",
    "Until now we have only seen the special case of discriminating between two classes: 0 or 1. But most of the real-world problems are actually dealing with multiple classes. For instance, in self-driving car, the car needs to discriminate between a human crossing the street, a dog crossing the street, a sign, another car, a truck, a bike, etc... The number of classes can be very high. \n",
    "\n",
    "Here, within our toy example, we will simply add the left-aside class and examine how it affects the decision boundarues as visualised before. Note that we are still using the two last dimensions of the data for the sake of understanding and visualisation. "
   ]
  },
  {
   "cell_type": "code",
   "execution_count": 103,
   "metadata": {},
   "outputs": [],
   "source": [
    "features, labels, colors = get_iris_data(classes=[0, 1, 2])\n",
    "X_train = features[:, 2:]\n",
    "y_train = labels\n",
    "classifier = svm.SVC(kernel='linear')\n",
    "classifier.fit(X_train, y_train);"
   ]
  },
  {
   "cell_type": "markdown",
   "metadata": {},
   "source": [
    "When dealing with more than one class, SVM finds decision boundaries between pair of classes:\n",
    "* Class 1 vs. Class 2\n",
    "* Class 1 vs. Class 3\n",
    "* Class 2 vs. Class 3"
   ]
  },
  {
   "cell_type": "code",
   "execution_count": 104,
   "metadata": {},
   "outputs": [
    {
     "data": {
      "text/plain": [
       "<matplotlib.collections.PathCollection at 0x120d5f898>"
      ]
     },
     "execution_count": 104,
     "metadata": {},
     "output_type": "execute_result"
    },
    {
     "data": {
      "image/png": "[encoded data removed]",
      "text/plain": [
       "<Figure size 432x288 with 1 Axes>"
      ]
     },
     "metadata": {
      "needs_background": "light"
     },
     "output_type": "display_data"
    }
   ],
   "source": [
    "mesh_x = np.linspace(0.0, 8.0, 100)\n",
    "mesh_y = np.linspace(0.0, 5.0, 100)\n",
    "decision_area = np.zeros((len(mesh_x), len(mesh_y)))\n",
    "for i, x in enumerate(mesh_x):\n",
    "    for j, y in enumerate(mesh_y):\n",
    "        data_point = np.array([x, y]).reshape(1, 2)\n",
    "        decision_area[i,j] = classifier.predict(data_point)\n",
    "pcolormesh(mesh_x, mesh_y, decision_area.T, alpha=0.1)\n",
    "scatter(X_train[:,0], X_train[:,1], c=y_train, edgecolor='black')"
   ]
  },
  {
   "cell_type": "markdown",
   "metadata": {},
   "source": [
    "<img src=\"assets/exerice-icon.png\" style=\"width:80px; float:left;\"></img><div style=\"clear:left;\"></div>\n",
    "**EXERCICE:** What are the decision regions for a `1-NN` in the of the multiclass problem? "
   ]
  },
  {
   "cell_type": "code",
   "execution_count": null,
   "metadata": {},
   "outputs": [],
   "source": [
    "# TODO"
   ]
  },
  {
   "cell_type": "markdown",
   "metadata": {},
   "source": [
    "<a name=\"toyex_testing\"></a>\n",
    "# Testing a Classifier on the Iris Dataset"
   ]
  },
  {
   "cell_type": "markdown",
   "metadata": {},
   "source": [
    "Testing a classifier is to inspect if the classifier performs a good prediction (estimated the label/class) on data that **are not included** in the dataset used to train it. \n",
    "\n",
    "The general objective of ML is indeed to test the **generalizability** of the trained algorithm. \n",
    "\n",
    "Algorithms can then be compared based on their prediction capabilities. Prediction capability is usually reported as accuracy percentage: what is the percentage of the testing dataset that has been correctly classified (predicted)."
   ]
  },
  {
   "cell_type": "markdown",
   "metadata": {},
   "source": [
    "In order to test a classifier, we then need to split the whole dataset into a training dataset on which the classifier will be trained and a testing dataset on which we will test the prediciton capabilities. \n",
    "\n",
    "<img src='./assets/crossval_split_training_testing.png' style=\"width:40%\"></img>"
   ]
  },
  {
   "cell_type": "markdown",
   "metadata": {},
   "source": [
    "## Prepare the data"
   ]
  },
  {
   "cell_type": "markdown",
   "metadata": {},
   "source": [
    "One option is to shuffle the dataset and select 20% for testing and 80% for training"
   ]
  },
  {
   "cell_type": "markdown",
   "metadata": {},
   "source": [
    "**QUESTION**: Why shuffling? "
   ]
  },
  {
   "cell_type": "markdown",
   "metadata": {},
   "source": [
    "To shuffle the dataset, let's first get indexes to browse the whole dataset"
   ]
  },
  {
   "cell_type": "code",
   "execution_count": 105,
   "metadata": {},
   "outputs": [],
   "source": [
    "features, labels, _ = get_iris_data()"
   ]
  },
  {
   "cell_type": "code",
   "execution_count": 108,
   "metadata": {},
   "outputs": [],
   "source": [
    "idx = np.arange(len(features))"
   ]
  },
  {
   "cell_type": "code",
   "execution_count": 109,
   "metadata": {},
   "outputs": [
    {
     "data": {
      "text/plain": [
       "array([  0,   1,   2,   3,   4,   5,   6,   7,   8,   9,  10,  11,  12,\n",
       "        13,  14,  15,  16,  17,  18,  19,  20,  21,  22,  23,  24,  25,\n",
       "        26,  27,  28,  29,  30,  31,  32,  33,  34,  35,  36,  37,  38,\n",
       "        39,  40,  41,  42,  43,  44,  45,  46,  47,  48,  49,  50,  51,\n",
       "        52,  53,  54,  55,  56,  57,  58,  59,  60,  61,  62,  63,  64,\n",
       "        65,  66,  67,  68,  69,  70,  71,  72,  73,  74,  75,  76,  77,\n",
       "        78,  79,  80,  81,  82,  83,  84,  85,  86,  87,  88,  89,  90,\n",
       "        91,  92,  93,  94,  95,  96,  97,  98,  99, 100, 101, 102, 103,\n",
       "       104, 105, 106, 107, 108, 109, 110, 111, 112, 113, 114, 115, 116,\n",
       "       117, 118, 119, 120, 121, 122, 123, 124, 125, 126, 127, 128, 129,\n",
       "       130, 131, 132, 133, 134, 135, 136, 137, 138, 139, 140, 141, 142,\n",
       "       143, 144, 145, 146, 147, 148, 149])"
      ]
     },
     "execution_count": 109,
     "metadata": {},
     "output_type": "execute_result"
    }
   ],
   "source": [
    "idx"
   ]
  },
  {
   "cell_type": "markdown",
   "metadata": {},
   "source": [
    "Shuffle indexes"
   ]
  },
  {
   "cell_type": "code",
   "execution_count": 110,
   "metadata": {},
   "outputs": [],
   "source": [
    "random.shuffle(idx)"
   ]
  },
  {
   "cell_type": "code",
   "execution_count": 111,
   "metadata": {},
   "outputs": [
    {
     "data": {
      "text/plain": [
       "array([ 84,  26,  51,  38,  63,  30,   1, 131,  48,  85,  66,  27,  95,\n",
       "        78,  12, 129,  81,  42, 139, 117,  65,  92,  53,  73, 147,  35,\n",
       "        62,  97,  28, 111, 128,  25,  68, 119, 101,  64,  89, 127, 124,\n",
       "       142,  88,  82, 121,   6,  69,  19,  83,   5,  49,   0,  70,  59,\n",
       "        18,  94, 130,  99,  33,  23,  45,  55,  37,  67, 143,  74,   9,\n",
       "       102,  34,  86, 109,  10,  58, 133,  41,  98,   3, 138, 113, 136,\n",
       "         4,  22,  75, 135,  31, 108, 148, 118, 132,  54, 107,  80, 125,\n",
       "       126,  87,  17,  20, 120, 134, 145,  24,  90, 149,  44,  77,  39,\n",
       "        79, 106, 123, 122,  57,  40, 144,   8, 104, 114,  91, 100,  72,\n",
       "       116, 146,  47, 115,  15, 112, 110, 137,  60,  11,  76, 103,  29,\n",
       "        43,  21,  13,   2,  61,  50,  93,  52,  16,  56, 141, 140,  96,\n",
       "         7, 105,  46,  36,  14,  71,  32])"
      ]
     },
     "execution_count": 111,
     "metadata": {},
     "output_type": "execute_result"
    }
   ],
   "source": [
    "idx"
   ]
  },
  {
   "cell_type": "markdown",
   "metadata": {},
   "source": [
    "Shuffle the whole dataset"
   ]
  },
  {
   "cell_type": "code",
   "execution_count": 112,
   "metadata": {},
   "outputs": [],
   "source": [
    "features = features[idx]"
   ]
  },
  {
   "cell_type": "markdown",
   "metadata": {},
   "source": [
    "Shuffle the labels the **exact same way**"
   ]
  },
  {
   "cell_type": "code",
   "execution_count": 113,
   "metadata": {},
   "outputs": [],
   "source": [
    "labels = labels[idx]"
   ]
  },
  {
   "cell_type": "code",
   "execution_count": 114,
   "metadata": {},
   "outputs": [
    {
     "data": {
      "text/plain": [
       "array([1, 0, 1, 0, 1, 0, 0, 2, 0, 1, 1, 0, 1, 1, 0, 2, 1, 0, 2, 2, 1, 1,\n",
       "       1, 1, 2, 0, 1, 1, 0, 2, 2, 0, 1, 2, 2, 1, 1, 2, 2, 2, 1, 1, 2, 0,\n",
       "       1, 0, 1, 0, 0, 0, 1, 1, 0, 1, 2, 1, 0, 0, 0, 1, 0, 1, 2, 1, 0, 2,\n",
       "       0, 1, 2, 0, 1, 2, 0, 1, 0, 2, 2, 2, 0, 0, 1, 2, 0, 2, 2, 2, 2, 1,\n",
       "       2, 1, 2, 2, 1, 0, 0, 2, 2, 2, 0, 1, 2, 0, 1, 0, 1, 2, 2, 2, 1, 0,\n",
       "       2, 0, 2, 2, 1, 2, 1, 2, 2, 0, 2, 0, 2, 2, 2, 1, 0, 1, 2, 0, 0, 0,\n",
       "       0, 0, 1, 1, 1, 1, 0, 1, 2, 2, 1, 0, 2, 0, 0, 0, 1, 0])"
      ]
     },
     "execution_count": 114,
     "metadata": {},
     "output_type": "execute_result"
    }
   ],
   "source": [
    "labels"
   ]
  },
  {
   "cell_type": "markdown",
   "metadata": {},
   "source": [
    "Create your splits:"
   ]
  },
  {
   "cell_type": "code",
   "execution_count": 115,
   "metadata": {},
   "outputs": [],
   "source": [
    "train_X = features[:int(0.8 * len(features)), :]\n",
    "train_Y = labels[:int(0.8 * len(labels))]"
   ]
  },
  {
   "cell_type": "code",
   "execution_count": 116,
   "metadata": {},
   "outputs": [],
   "source": [
    "test_X = features[int(0.8 * len(features)):, :]\n",
    "test_Y = labels[int(0.8 * len(labels)):]"
   ]
  },
  {
   "cell_type": "code",
   "execution_count": 117,
   "metadata": {},
   "outputs": [
    {
     "name": "stdout",
     "output_type": "stream",
     "text": [
      "120\n",
      "30\n"
     ]
    }
   ],
   "source": [
    "print(len(train_X))\n",
    "print(len(test_X))"
   ]
  },
  {
   "cell_type": "markdown",
   "metadata": {},
   "source": [
    "## Test classification by computing the accuracy"
   ]
  },
  {
   "cell_type": "code",
   "execution_count": 118,
   "metadata": {},
   "outputs": [],
   "source": [
    "# init SVM classifier\n",
    "classifier = svm.SVC(kernel='linear')"
   ]
  },
  {
   "cell_type": "code",
   "execution_count": 119,
   "metadata": {},
   "outputs": [
    {
     "data": {
      "text/plain": [
       "SVC(C=1.0, cache_size=200, class_weight=None, coef0=0.0,\n",
       "    decision_function_shape='ovr', degree=3, gamma='auto_deprecated',\n",
       "    kernel='linear', max_iter=-1, probability=False, random_state=None,\n",
       "    shrinking=True, tol=0.001, verbose=False)"
      ]
     },
     "execution_count": 119,
     "metadata": {},
     "output_type": "execute_result"
    }
   ],
   "source": [
    "# train VM classifier\n",
    "classifier.fit(train_X, train_Y)"
   ]
  },
  {
   "cell_type": "code",
   "execution_count": 120,
   "metadata": {},
   "outputs": [],
   "source": [
    "# test SVM classifier and store output\n",
    "pred_Y = classifier.predict(test_X)"
   ]
  },
  {
   "cell_type": "code",
   "execution_count": 121,
   "metadata": {},
   "outputs": [
    {
     "data": {
      "text/plain": [
       "array([2, 0, 2, 2, 2, 1, 0, 1, 2, 0, 0, 0, 0, 0, 1, 1, 1, 1, 0, 1, 2, 2,\n",
       "       1, 0, 2, 0, 0, 0, 1, 0])"
      ]
     },
     "execution_count": 121,
     "metadata": {},
     "output_type": "execute_result"
    }
   ],
   "source": [
    "pred_Y"
   ]
  },
  {
   "cell_type": "markdown",
   "metadata": {},
   "source": [
    "Counting the number of errors of our prediction:"
   ]
  },
  {
   "cell_type": "code",
   "execution_count": 122,
   "metadata": {},
   "outputs": [],
   "source": [
    "num_errors = 0\n",
    "for i,yi in enumerate(pred_Y):\n",
    "    if (yi != test_Y[i]):\n",
    "        num_errors += 1"
   ]
  },
  {
   "cell_type": "code",
   "execution_count": 123,
   "metadata": {},
   "outputs": [
    {
     "data": {
      "text/plain": [
       "0"
      ]
     },
     "execution_count": 123,
     "metadata": {},
     "output_type": "execute_result"
    }
   ],
   "source": [
    "num_errors"
   ]
  },
  {
   "cell_type": "markdown",
   "metadata": {},
   "source": [
    "Performance in percentage:"
   ]
  },
  {
   "cell_type": "code",
   "execution_count": 124,
   "metadata": {},
   "outputs": [
    {
     "data": {
      "text/plain": [
       "100.0"
      ]
     },
     "execution_count": 124,
     "metadata": {},
     "output_type": "execute_result"
    }
   ],
   "source": [
    "( 1.0 - num_errors/len(pred_Y) ) * 100.0"
   ]
  },
  {
   "cell_type": "markdown",
   "metadata": {},
   "source": [
    "This is the classification accuracy in percentage on the current set of training/testing datasets. The **worst classifier** would have returned 50% (_chance level_). In sklearn we can directly compute the score with the `score()` function:"
   ]
  },
  {
   "cell_type": "code",
   "execution_count": 125,
   "metadata": {},
   "outputs": [],
   "source": [
    "# sklearn function\n",
    "score = classifier.score(test_X, test_Y)"
   ]
  },
  {
   "cell_type": "code",
   "execution_count": 126,
   "metadata": {},
   "outputs": [
    {
     "data": {
      "text/plain": [
       "1.0"
      ]
     },
     "execution_count": 126,
     "metadata": {},
     "output_type": "execute_result"
    }
   ],
   "source": [
    "score"
   ]
  },
  {
   "cell_type": "markdown",
   "metadata": {},
   "source": [
    "**QUESTION:** Can we say that this classifier has 93.3% accuracy?"
   ]
  },
  {
   "cell_type": "markdown",
   "metadata": {},
   "source": [
    "### Assess generalizability"
   ]
  },
  {
   "cell_type": "markdown",
   "metadata": {},
   "source": [
    "We tested only on one split, what if the split leads to particularly well disciminated training dataset but not testing dataset. Or the contrary... The idea is to consider more than one split, to compute the score on each split and then compute the average (and the variance of the scores) which gives a more robust way (statistically) to assess a classification algorithm."
   ]
  },
  {
   "cell_type": "markdown",
   "metadata": {},
   "source": [
    "<img src=\"assets/exerice-icon.png\" style=\"width:80px; float:left;\"></img><div style=\"clear:left;\"></div>\n",
    "**EXERCICE:** perform `N` (e.g. 20) varying the splits and inspect the robustness of the classifier"
   ]
  },
  {
   "cell_type": "code",
   "execution_count": 128,
   "metadata": {},
   "outputs": [
    {
     "name": "stdout",
     "output_type": "stream",
     "text": [
      "'True' accuracy = 0.9786666666666668\n"
     ]
    }
   ],
   "source": [
    "# TODO\n",
    "all_scores = []\n",
    "for i in range(100):\n",
    "    \n",
    "    features, labels, _ = get_iris_data()\n",
    "    idx = np.arange(len(features))\n",
    "    random.shuffle(idx)\n",
    "    \n",
    "    features = features[idx]\n",
    "    labels = labels[idx]\n",
    "    \n",
    "    train_X = features[:int(0.8 * len(features)), :]\n",
    "    train_Y = labels[:int(0.8 * len(labels))]\n",
    "    test_X = features[int(0.8 * len(features)):, :]\n",
    "    test_Y = labels[int(0.8 * len(labels)):]\n",
    "    \n",
    "    classifer = svm.SVC(kernel='linear')\n",
    "    classifier.fit(train_X, train_Y)\n",
    "    score = classifier.score(test_X, test_Y)\n",
    "    \n",
    "    all_scores.append(score)\n",
    "\n",
    "print(\"'True' accuracy =\", np.mean(all_scores))"
   ]
  },
  {
   "cell_type": "code",
   "execution_count": null,
   "metadata": {},
   "outputs": [],
   "source": [
    "print(np.mean(all_scores)*100)"
   ]
  },
  {
   "cell_type": "code",
   "execution_count": null,
   "metadata": {},
   "outputs": [],
   "source": [
    "print(np.std(all_scores)*100)"
   ]
  },
  {
   "cell_type": "code",
   "execution_count": null,
   "metadata": {},
   "outputs": [],
   "source": [
    "plt.plot(all_scores, '--o')\n",
    "plt.ylim([0.9, 1.01])"
   ]
  },
  {
   "cell_type": "markdown",
   "metadata": {},
   "source": [
    "___\n",
    "About this material: copyright Baptiste Caramiaux (write me for any questions or use of this material [email](mailto:baptiste.caramiaux@lri.fr))\n",
    "___"
   ]
  }
 ],
 "metadata": {
  "kernelspec": {
   "display_name": "Python 3",
   "language": "python",
   "name": "python3"
  },
  "language_info": {
   "codemirror_mode": {
    "name": "ipython",
    "version": 3
   },
   "file_extension": ".py",
   "mimetype": "text/x-python",
   "name": "python",
   "nbconvert_exporter": "python",
   "pygments_lexer": "ipython3",
   "version": "3.7.3"
  }
 },
 "nbformat": 4,
 "nbformat_minor": 2
}
