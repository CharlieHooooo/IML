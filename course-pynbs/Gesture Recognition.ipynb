{
 "cells": [
  {
   "cell_type": "markdown",
   "metadata": {},
   "source": [
    "<a name=\"gr\"></a>\n",
    "# Gesture Recognition\n",
    "\n",
    "When we talk about gestures, we could understand two types of gestures (see [Lecture 2 - Gestural interaction](https://github.com/bcaramiaux/GMI/blob/master/course-slides/Lecture2-Gestural-Interaction.pdf)): a posture or a temporal gesture. \n",
    "\n",
    "A posture is a static gesture such as:\n",
    "<div style=\"width:200px;\">![gesture](http://blog.clubcarlson.com/wp-content/uploads/2014/04/shutterstock_96934004-1024x731.jpg)</div>\n",
    "\n",
    "A gesture is temporal meaning that it involves a trajectory in a the physical space:\n",
    "<div style=\"width:200px;\">![gesture](http://www.samsung.com/ph/smarttv/common/guide_book_3p_si/img/hand1.png)</div>\n",
    "\n",
    "In the following we consider the dataset from the dollar1-recognizer (which are temporal gestures):\n",
    "<div style=\"width:300px; margin: 0 auto;\">![onedol](http://depts.washington.edu/madlab/proj/dollar/unistrokes.gif)</div>\n"
   ]
  },
  {
   "cell_type": "code",
   "execution_count": 34,
   "metadata": {},
   "outputs": [],
   "source": [
    "from Lecture4lib.utils import load_one_dollar_ds"
   ]
  },
  {
   "cell_type": "code",
   "execution_count": 12,
   "metadata": {},
   "outputs": [
    {
     "name": "stdout",
     "output_type": "stream",
     "text": [
      "Populating the interactive namespace from numpy and matplotlib\n"
     ]
    }
   ],
   "source": [
    "%pylab inline"
   ]
  },
  {
   "cell_type": "code",
   "execution_count": null,
   "metadata": {},
   "outputs": [],
   "source": [
    "dataset, labels = load_one_dollar_ds()"
   ]
  },
  {
   "cell_type": "code",
   "execution_count": null,
   "metadata": {},
   "outputs": [],
   "source": [
    "len(dataset)"
   ]
  },
  {
   "cell_type": "code",
   "execution_count": null,
   "metadata": {},
   "outputs": [],
   "source": [
    "import numpy as np\n",
    "np.unique(labels)"
   ]
  },
  {
   "cell_type": "markdown",
   "metadata": {},
   "source": [
    "Number of gestures per class is **300**"
   ]
  },
  {
   "cell_type": "markdown",
   "metadata": {},
   "source": [
    "<a name=\"gr_visualising\"></a>\n",
    "## Visualising dataset"
   ]
  },
  {
   "cell_type": "code",
   "execution_count": null,
   "metadata": {},
   "outputs": [],
   "source": [
    "gesture = 0"
   ]
  },
  {
   "cell_type": "code",
   "execution_count": null,
   "metadata": {},
   "outputs": [],
   "source": [
    "dataset, labels = load_one_dollar_ds(gesture)"
   ]
  },
  {
   "cell_type": "code",
   "execution_count": null,
   "metadata": {},
   "outputs": [],
   "source": [
    "len(dataset)"
   ]
  },
  {
   "cell_type": "code",
   "execution_count": null,
   "metadata": {},
   "outputs": [],
   "source": [
    "for g in dataset:\n",
    "    plot(g)"
   ]
  },
  {
   "cell_type": "code",
   "execution_count": null,
   "metadata": {},
   "outputs": [],
   "source": [
    "for g in dataset:\n",
    "    plot(g[:,0], g[:,1])"
   ]
  },
  {
   "cell_type": "code",
   "execution_count": null,
   "metadata": {},
   "outputs": [],
   "source": [
    "from Lecture4lib.utils import mean_gesture, std_gesture"
   ]
  },
  {
   "cell_type": "code",
   "execution_count": null,
   "metadata": {},
   "outputs": [],
   "source": [
    "g = mean_gesture(gesture)"
   ]
  },
  {
   "cell_type": "code",
   "execution_count": null,
   "metadata": {},
   "outputs": [],
   "source": [
    "plot(g[:,0], g[:,1])"
   ]
  },
  {
   "cell_type": "code",
   "execution_count": null,
   "metadata": {},
   "outputs": [],
   "source": [
    "mean_g = mean_gesture(gesture)\n",
    "std_g = std_gesture(gesture)"
   ]
  },
  {
   "cell_type": "code",
   "execution_count": null,
   "metadata": {},
   "outputs": [],
   "source": [
    "plot(mean_g[:,0], mean_g[:,1], '-k')\n",
    "plot(mean_g[:,0] + std_g[:,0], mean_g[:,1] + std_g[:,1], '--b')\n",
    "plot(mean_g[:,0] - std_g[:,0], mean_g[:,1] - std_g[:,1], '--b')"
   ]
  },
  {
   "cell_type": "code",
   "execution_count": null,
   "metadata": {},
   "outputs": [],
   "source": [
    "figure(figsize=(16,16))\n",
    "for k in range(0,16):\n",
    "    mean_g = mean_gesture(k)\n",
    "    std_g = std_gesture(k)\n",
    "    subplot(4,4,k+1)\n",
    "    plot(mean_g[:,0], mean_g[:,1], '-k')\n",
    "    plot(mean_g[:,0] + std_g[:,0], mean_g[:,1] + std_g[:,1], '--b')\n",
    "    plot(mean_g[:,0] - std_g[:,0], mean_g[:,1] - std_g[:,1], '--b')"
   ]
  },
  {
   "cell_type": "markdown",
   "metadata": {},
   "source": [
    "<a name=\"gr_training_testing\"></a>\n",
    "## Training and Testing a Classifier\n"
   ]
  },
  {
   "cell_type": "markdown",
   "metadata": {},
   "source": [
    "**QUESTION:** What is the problem with Gesture Data? "
   ]
  },
  {
   "cell_type": "code",
   "execution_count": 45,
   "metadata": {},
   "outputs": [],
   "source": [
    "dataset, labels = load_one_dollar_ds()"
   ]
  },
  {
   "cell_type": "code",
   "execution_count": null,
   "metadata": {},
   "outputs": [],
   "source": []
  },
  {
   "cell_type": "markdown",
   "metadata": {},
   "source": [
    "Let's get the gesture data such as all of them have the same size:"
   ]
  },
  {
   "cell_type": "code",
   "execution_count": 35,
   "metadata": {},
   "outputs": [],
   "source": [
    "dataset, labels = load_one_dollar_ds(resample=True)"
   ]
  },
  {
   "cell_type": "code",
   "execution_count": 36,
   "metadata": {},
   "outputs": [
    {
     "data": {
      "text/plain": [
       "(4800, 50, 2)"
      ]
     },
     "execution_count": 36,
     "metadata": {},
     "output_type": "execute_result"
    }
   ],
   "source": [
    "dataset.shape"
   ]
  },
  {
   "cell_type": "code",
   "execution_count": 37,
   "metadata": {},
   "outputs": [],
   "source": [
    "dataset = np.resize(dataset, (4800, 100))"
   ]
  },
  {
   "cell_type": "code",
   "execution_count": 38,
   "metadata": {},
   "outputs": [
    {
     "data": {
      "text/plain": [
       "(4800, 100)"
      ]
     },
     "execution_count": 38,
     "metadata": {},
     "output_type": "execute_result"
    }
   ],
   "source": [
    "dataset.shape"
   ]
  },
  {
   "cell_type": "code",
   "execution_count": 39,
   "metadata": {},
   "outputs": [],
   "source": [
    "from sklearn import svm\n",
    "from sklearn.model_selection import StratifiedKFold"
   ]
  },
  {
   "cell_type": "code",
   "execution_count": 40,
   "metadata": {},
   "outputs": [
    {
     "name": "stdout",
     "output_type": "stream",
     "text": [
      "Mean score with SVM: 99.17%\n",
      "  standard deviation: 0.99%\n"
     ]
    }
   ],
   "source": [
    "classifier = svm.SVC(kernel='linear');\n",
    "\n",
    "num_tests = 20\n",
    "splitter = StratifiedKFold(n_splits = num_tests)\n",
    "all_scores = []\n",
    "\n",
    "for train_index, test_index in splitter.split(dataset, labels):\n",
    "    X_train, y_train, X_test, y_test = dataset[train_index], labels[train_index], dataset[test_index], labels[test_index]\n",
    "    classifier.fit(X_train, y_train)\n",
    "    score = classifier.score(X_test, y_test)\n",
    "    all_scores.append(score)\n",
    "\n",
    "print('Mean score with SVM: {:.2f}%'.format(np.mean(all_scores)*100.0))\n",
    "print('  standard deviation: {:.2f}%'.format(np.std(all_scores)*100.0))"
   ]
  },
  {
   "cell_type": "markdown",
   "metadata": {},
   "source": [
    "### Confusion matrix\n",
    "\n",
    "The confusion matrix is a matrix where columns and rows designate the classes. For instance, for the one dollar dataset, the confusion matrix will be of size $16 \\times 16$. Each cell $i,j$ of this matrix denotes the number of times a sample from class $i$ has been classified as $j$. The diagonal of this matrix is therefore the well-classified cases while the other cells show the confusion between classes. \n",
    "\n",
    "Let's try with kNN from the previous example:"
   ]
  },
  {
   "cell_type": "code",
   "execution_count": null,
   "metadata": {},
   "outputs": [],
   "source": [
    "dataset, labels = load_one_dollar_ds(resample=True)\n",
    "dataset = np.resize(dataset, (4800, 100))\n",
    "\n",
    "classes = list(np.unique(labels))\n",
    "n_classes = len(classes)\n",
    "confusion_matrix = np.zeros((n_classes, n_classes))\n",
    "\n",
    "for train_index, test_index in splitter.split(dataset, labels):\n",
    "    X_train = dataset[train_index]\n",
    "    y_train = labels[train_index]\n",
    "    X_test = dataset[test_index]\n",
    "    y_test = labels[test_index]   \n",
    "    \n",
    "    classifier = neighbors.KNeighborsClassifier()\n",
    "    classifier.fit(X_train, y_train)\n",
    "    \n",
    "    for i, x_ in enumerate(X_test):\n",
    "        predicted_label = classifier.predict(x_.reshape(1,-1))\n",
    "        confusion_matrix[y_test[i], predicted_label] += 1"
   ]
  },
  {
   "cell_type": "code",
   "execution_count": null,
   "metadata": {},
   "outputs": [],
   "source": [
    "figure(figsize=(5,5))\n",
    "imshow(confusion_matrix)\n",
    "colorbar()"
   ]
  },
  {
   "cell_type": "code",
   "execution_count": null,
   "metadata": {},
   "outputs": [],
   "source": [
    "# the sum of the diagonal is related the accuracy:\n",
    "np.sum(np.diag(confusion_matrix)) / (300 * 16) * 100.0"
   ]
  },
  {
   "cell_type": "code",
   "execution_count": null,
   "metadata": {},
   "outputs": [],
   "source": [
    "plot(np.diag(confusion_matrix) / 300.0 * 100.0, '-ok')"
   ]
  },
  {
   "cell_type": "markdown",
   "metadata": {},
   "source": [
    "Interesting for **gesture design**"
   ]
  },
  {
   "cell_type": "markdown",
   "metadata": {},
   "source": [
    "## The problem of false positives\n",
    "\n",
    "False positives are gestures that are wrongly classified. For instance, I am performing a circle and the algorithm recognises a triangle, which means that it will trigger the wrong command. \n",
    "\n",
    "False positives can lead to frustration for a user and can lead to safety problem. "
   ]
  },
  {
   "cell_type": "markdown",
   "metadata": {},
   "source": [
    "To avoid False Positive, we want to classify a gesture based on the **model confidence** in its prediction."
   ]
  },
  {
   "cell_type": "markdown",
   "metadata": {},
   "source": [
    "This brings us to consider **probabilistic models** which can make a prediction and associates a likelihood to this prediction. \n",
    "\n",
    "For instance, say that the classifier can recognise circle/square/triangle. If the gesture input is a circle, the classifier will output a probability value to each class such as for instance 0.7 for circle, 0.2 for square, and 0.1 for triangle."
   ]
  },
  {
   "cell_type": "code",
   "execution_count": 13,
   "metadata": {},
   "outputs": [],
   "source": [
    "gestures = ['circle','square','triangle']\n",
    "prob_over_gestures = [0.7, 0.2, 0.1]"
   ]
  },
  {
   "cell_type": "code",
   "execution_count": 14,
   "metadata": {},
   "outputs": [
    {
     "data": {
      "text/plain": [
       "<Container object of 3 artists>"
      ]
     },
     "execution_count": 14,
     "metadata": {},
     "output_type": "execute_result"
    },
    {
     "data": {
      "image/png": "[encoded data removed]",
      "text/plain": [
       "<matplotlib.figure.Figure at 0x11368b198>"
      ]
     },
     "metadata": {},
     "output_type": "display_data"
    }
   ],
   "source": [
    "bar(gestures, prob_over_gestures)"
   ]
  },
  {
   "cell_type": "code",
   "execution_count": 15,
   "metadata": {},
   "outputs": [
    {
     "name": "stdout",
     "output_type": "stream",
     "text": [
      "index recognised gesture is: 0\n",
      "which means: circle\n"
     ]
    }
   ],
   "source": [
    "print('index recognised gesture is:', np.argmax(prob_over_gestures))\n",
    "print('which means:', gestures[np.argmax(prob_over_gestures)])"
   ]
  },
  {
   "cell_type": "markdown",
   "metadata": {},
   "source": [
    "Let's inspect that more in details with the probabilistic model called **Gaussian Mixture Model**"
   ]
  },
  {
   "cell_type": "code",
   "execution_count": 16,
   "metadata": {},
   "outputs": [],
   "source": [
    "from Lecture4lib.gmm import GMMC\n",
    "from sklearn.model_selection import StratifiedKFold\n",
    "from Lecture4lib.utils import load_one_dollar_ds\n",
    "import numpy as np\n",
    "dataset, labels = load_one_dollar_ds(resample=True)"
   ]
  },
  {
   "cell_type": "code",
   "execution_count": 17,
   "metadata": {},
   "outputs": [],
   "source": [
    "splitter = StratifiedKFold(n_splits = 12)\n",
    "\n",
    "dataset, labels = load_one_dollar_ds(resample=True)\n",
    "dataset = np.resize(dataset, (4800, 100))\n",
    "\n",
    "classes = list(np.unique(labels))\n",
    "n_classes = len(classes)\n",
    "confusion_matrix = np.zeros((n_classes, n_classes))\n",
    "\n",
    "for train_index, test_index in splitter.split(dataset, labels):\n",
    "    X_train = dataset[train_index]\n",
    "    y_train = labels[train_index]\n",
    "    X_test = dataset[test_index]\n",
    "    y_test = labels[test_index]   \n",
    "    \n",
    "    classifier = GMMC()\n",
    "    classifier.fit(X_train, y_train)\n",
    "    \n",
    "    for i, x_ in enumerate(X_test):\n",
    "        predicted_label = classifier.predict(x_.reshape(1,-1))\n",
    "        confusion_matrix[y_test[i], predicted_label] += 1"
   ]
  },
  {
   "cell_type": "code",
   "execution_count": 18,
   "metadata": {},
   "outputs": [
    {
     "data": {
      "text/plain": [
       "<matplotlib.colorbar.Colorbar at 0x112e71358>"
      ]
     },
     "execution_count": 18,
     "metadata": {},
     "output_type": "execute_result"
    },
    {
     "data": {
      "image/png": "[encoded data removed]",
      "text/plain": [
       "<matplotlib.figure.Figure at 0x1141a3a20>"
      ]
     },
     "metadata": {},
     "output_type": "display_data"
    }
   ],
   "source": [
    "figure(figsize=(5,5))\n",
    "imshow(confusion_matrix)\n",
    "colorbar()"
   ]
  },
  {
   "cell_type": "code",
   "execution_count": 19,
   "metadata": {},
   "outputs": [
    {
     "data": {
      "text/plain": [
       "97.25"
      ]
     },
     "execution_count": 19,
     "metadata": {},
     "output_type": "execute_result"
    }
   ],
   "source": [
    "# the sum of the diagonal is related the accuracy:\n",
    "np.sum(np.diag(confusion_matrix)) / (300 * 16) * 100.0"
   ]
  },
  {
   "cell_type": "code",
   "execution_count": 96,
   "metadata": {},
   "outputs": [
    {
     "name": "stdout",
     "output_type": "stream",
     "text": [
      "False positives: 3.0% (144.0 gestures)\n"
     ]
    }
   ],
   "source": [
    "# couting false positives\n",
    "print('False positives: {}% ({} gestures)'.format(100-np.sum(np.diag(confusion_matrix)) / (300 * 16) * 100.0, 0.03*300*16))"
   ]
  },
  {
   "cell_type": "markdown",
   "metadata": {},
   "source": [
    "Thresholding the confidence measure"
   ]
  },
  {
   "cell_type": "code",
   "execution_count": 62,
   "metadata": {},
   "outputs": [
    {
     "data": {
      "text/plain": [
       "<Container object of 3 artists>"
      ]
     },
     "execution_count": 62,
     "metadata": {},
     "output_type": "execute_result"
    },
    {
     "data": {
      "image/png": "[encoded data removed]",
      "text/plain": [
       "<matplotlib.figure.Figure at 0x116c95cf8>"
      ]
     },
     "metadata": {},
     "output_type": "display_data"
    }
   ],
   "source": [
    "bar(gestures, prob_over_gestures)"
   ]
  },
  {
   "cell_type": "code",
   "execution_count": 81,
   "metadata": {},
   "outputs": [
    {
     "data": {
      "text/plain": [
       "[<matplotlib.lines.Line2D at 0x10646b080>]"
      ]
     },
     "execution_count": 81,
     "metadata": {},
     "output_type": "execute_result"
    },
    {
     "data": {
      "image/png": "[encoded data removed]",
      "text/plain": [
       "<matplotlib.figure.Figure at 0x10646b3c8>"
      ]
     },
     "metadata": {},
     "output_type": "display_data"
    }
   ],
   "source": [
    "bar(gestures, prob_over_gestures)\n",
    "plot([-0.5,0,1,2,2.5], [0.6,0.6,0.6,0.6,0.6], '--k', linewidth=4)"
   ]
  },
  {
   "cell_type": "code",
   "execution_count": 82,
   "metadata": {},
   "outputs": [],
   "source": [
    "threshold = 0.6"
   ]
  },
  {
   "cell_type": "code",
   "execution_count": 83,
   "metadata": {},
   "outputs": [],
   "source": [
    "splitter = StratifiedKFold(n_splits = 12)\n",
    "\n",
    "dataset, labels = load_one_dollar_ds(resample=True)\n",
    "dataset = np.resize(dataset, (4800, 100))\n",
    "\n",
    "classes = list(np.unique(labels))\n",
    "n_classes = len(classes)\n",
    "confusion_matrix = np.zeros((n_classes, n_classes))\n",
    "\n",
    "good_candidates = 0\n",
    "bad_candidates = 0\n",
    "\n",
    "for train_index, test_index in splitter.split(dataset, labels):\n",
    "    X_train = dataset[train_index]\n",
    "    y_train = labels[train_index]\n",
    "    X_test = dataset[test_index]\n",
    "    y_test = labels[test_index]   \n",
    "    \n",
    "    classifier = GMMC()\n",
    "    classifier.fit(X_train, y_train)\n",
    "    \n",
    "    for i, x_ in enumerate(X_test):\n",
    "        probas = classifier.predict_proba(x_.reshape(1,-1))\n",
    "        if (np.max(probas) > threshold):\n",
    "            pred_label = np.argmax(probas)\n",
    "            confusion_matrix[y_test[i], pred_label] += 1\n",
    "            good_candidates += 1\n",
    "        else:\n",
    "            bad_candidates += 1"
   ]
  },
  {
   "cell_type": "code",
   "execution_count": 84,
   "metadata": {},
   "outputs": [
    {
     "data": {
      "text/plain": [
       "<matplotlib.colorbar.Colorbar at 0x1119a3fd0>"
      ]
     },
     "execution_count": 84,
     "metadata": {},
     "output_type": "execute_result"
    },
    {
     "data": {
      "image/png": "[encoded data removed]",
      "text/plain": [
       "<matplotlib.figure.Figure at 0x1119c0780>"
      ]
     },
     "metadata": {},
     "output_type": "display_data"
    }
   ],
   "source": [
    "figure(figsize=(5,5))\n",
    "imshow(confusion_matrix)\n",
    "colorbar()"
   ]
  },
  {
   "cell_type": "code",
   "execution_count": 85,
   "metadata": {},
   "outputs": [
    {
     "data": {
      "text/plain": [
       "97.500018993774034"
      ]
     },
     "execution_count": 85,
     "metadata": {},
     "output_type": "execute_result"
    }
   ],
   "source": [
    "np.sum(np.diag(confusion_matrix) / np.sum(confusion_matrix, axis=1)) / 16 * 100.0"
   ]
  },
  {
   "cell_type": "code",
   "execution_count": 86,
   "metadata": {},
   "outputs": [
    {
     "data": {
      "text/plain": [
       "0.5416666666666667"
      ]
     },
     "execution_count": 86,
     "metadata": {},
     "output_type": "execute_result"
    }
   ],
   "source": [
    "# Percentage of used dropped data\n",
    "bad_candidates / (bad_candidates + good_candidates) * 100.0"
   ]
  },
  {
   "cell_type": "code",
   "execution_count": 87,
   "metadata": {},
   "outputs": [],
   "source": [
    "confusion_matrix = np.zeros((n_classes, n_classes))\n",
    "\n",
    "true_positives = 0\n",
    "false_positives = 0\n",
    "true_negatives = 0\n",
    "false_negatives = 0\n",
    "\n",
    "\n",
    "for train_index, test_index in splitter.split(dataset, labels):\n",
    "    X_train = dataset[train_index]\n",
    "    y_train = labels[train_index]\n",
    "    X_test = dataset[test_index]\n",
    "    y_test = labels[test_index]   \n",
    "    \n",
    "    classifier = GMMC()\n",
    "    classifier.fit(X_train, y_train)\n",
    "    \n",
    "    for i, x_ in enumerate(X_test):\n",
    "        probas = classifier.predict_proba(x_.reshape(1,-1))\n",
    "        if (np.max(probas) > threshold):\n",
    "            pred_label = np.argmax(probas)\n",
    "            confusion_matrix[y_test[i], pred_label] += 1\n",
    "            if pred_label == y_test[i]:\n",
    "                true_positives += 1\n",
    "            else:\n",
    "                false_positives += 1\n",
    "        else:\n",
    "            if pred_label == y_test[i]:\n",
    "                false_negatives += 1\n",
    "            else:\n",
    "                true_negatives += 1"
   ]
  },
  {
   "cell_type": "code",
   "execution_count": 88,
   "metadata": {},
   "outputs": [
    {
     "name": "stdout",
     "output_type": "stream",
     "text": [
      "true_positives: 97.0\n",
      "false_positives: 2.5\n",
      "false_negatives: 0.375\n",
      "true_negatives: 0.125\n"
     ]
    }
   ],
   "source": [
    "# Percentages\n",
    "print( 'true_positives:', true_positives / (12 * len(X_test)) * 100.0 )\n",
    "print( 'false_positives:', false_positives / (12 * len(X_test)) * 100.0 )\n",
    "print( 'false_negatives:', false_negatives / (12 * len(X_test)) * 100.0 )\n",
    "print( 'true_negatives:', true_negatives / (12 * len(X_test)) * 100.0 )"
   ]
  },
  {
   "cell_type": "markdown",
   "metadata": {},
   "source": [
    "# Exercice"
   ]
  },
  {
   "cell_type": "markdown",
   "metadata": {},
   "source": [
    "The function 'load_3d_gesture_data' loads 3D gestures that are gestures captured through a mobile phone. The dataset encompasses several examples of the 26 letters of the alphabet performed cursively."
   ]
  },
  {
   "cell_type": "code",
   "execution_count": null,
   "metadata": {},
   "outputs": [],
   "source": [
    "Goal: compute the accuracy with a SVM, compared with kNN. "
   ]
  },
  {
   "cell_type": "code",
   "execution_count": 1,
   "metadata": {},
   "outputs": [],
   "source": [
    "from Lecture4lib.utils import load_3d_gesture_data"
   ]
  },
  {
   "cell_type": "markdown",
   "metadata": {},
   "source": [
    "# Conclusions\n",
    "\n",
    "What we have seen:\n",
    "- Visualizing dataset\n",
    "- Training a classifier on a dataset\n",
    "- Testing a classifier with cross-validation\n",
    "- On-class vs multi-class problem\n",
    "- The case of gesture recognition\n",
    "- Compare classifiers for gesture recognition\n",
    "- Understand confusion in classification\n",
    "- Beware fasle positives"
   ]
  },
  {
   "cell_type": "markdown",
   "metadata": {},
   "source": [
    "___\n",
    "About this material: copyright Baptiste Caramiaux (write me for any questions or use of this material [email](mailto:baptiste.caramiaux@lri.fr))\n",
    "___"
   ]
  }
 ],
 "metadata": {
  "kernelspec": {
   "display_name": "Python 3",
   "language": "python",
   "name": "python3"
  },
  "language_info": {
   "codemirror_mode": {
    "name": "ipython",
    "version": 3
   },
   "file_extension": ".py",
   "mimetype": "text/x-python",
   "name": "python",
   "nbconvert_exporter": "python",
   "pygments_lexer": "ipython3",
   "version": "3.6.1"
  }
 },
 "nbformat": 4,
 "nbformat_minor": 2
}
